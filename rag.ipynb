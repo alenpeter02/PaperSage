{
 "cells": [
  {
   "cell_type": "code",
   "execution_count": 3,
   "id": "464d448f-c95b-4979-926e-8118cda13180",
   "metadata": {
    "tags": []
   },
   "outputs": [
    {
     "name": "stdout",
     "output_type": "stream",
     "text": [
      "Note: you may need to restart the kernel to use updated packages.\n"
     ]
    }
   ],
   "source": [
    "pip install langchain -q"
   ]
  },
  {
   "cell_type": "code",
   "execution_count": 13,
   "id": "8969b23d-daf4-4aa6-932b-d39abd48d37f",
   "metadata": {
    "tags": []
   },
   "outputs": [
    {
     "name": "stdout",
     "output_type": "stream",
     "text": [
      "Note: you may need to restart the kernel to use updated packages.\n"
     ]
    }
   ],
   "source": [
    "pip install PyPDF2 -q"
   ]
  },
  {
   "cell_type": "code",
   "execution_count": 9,
   "id": "c705c223-90f4-478e-9eff-6d422bd3080c",
   "metadata": {
    "tags": []
   },
   "outputs": [],
   "source": [
    "from langchain_community.document_loaders import PyPDFLoader"
   ]
  },
  {
   "cell_type": "code",
   "execution_count": 11,
   "id": "225eaec6-c382-4e09-9a72-970942a3acc2",
   "metadata": {
    "tags": []
   },
   "outputs": [
    {
     "name": "stdout",
     "output_type": "stream",
     "text": [
      "<class 'list'>\n",
      "[Document(page_content='Preprint. Under review.\\nLeave No Context Behind:\\nEfficient Infinite Context Transformers with Infini-attention\\nTsendsuren Munkhdalai, Manaal Faruqui and Siddharth Gopal\\nGoogle\\ntsendsuren@google.com\\nAbstract\\nThis work introduces an efficient method to scale Transformer-based Large\\nLanguage Models (LLMs) to infinitely long inputs with bounded memory\\nand computation. A key component in our proposed approach is a new at-\\ntention technique dubbed Infini-attention. The Infini-attention incorporates\\na compressive memory into the vanilla attention mechanism and builds\\nin both masked local attention and long-term linear attention mechanisms\\nin a single Transformer block. We demonstrate the effectiveness of our\\napproach on long-context language modeling benchmarks, 1M sequence\\nlength passkey context block retrieval and 500K length book summarization\\ntasks with 1B and 8B LLMs. Our approach introduces minimal bounded\\nmemory parameters and enables fast streaming inference for LLMs.\\n1 Introduction\\nMemory serves as a cornerstone of intelligence, as it enables efficient computations tailored\\nto specific contexts. However, Transformers (Vaswani et al., 2017) and Transformer-based\\nLLMs (Brown et al., 2020; Touvron et al., 2023; Anil et al., 2023; Groeneveld et al., 2024) have\\na constrained context-dependent memory, due to the nature of the attention mechanism.\\nUpdate \\nVVConcat Concat \\nQ V\\nQ V\\nQs{KV}sCompressive memory & \\nLinear attention Causal scaled dot-product \\nattention & PE Linear \\nprojection \\n{KV}s-1Retrieve \\nFigure 1: Infini-attention has an addi-\\ntional compressive memory with linear\\nattention for processing infinitely long\\ncontexts. {KV}s−1and{KV}sare atten-\\ntion key and values for current and previ-\\nous input segments, respectively and Qs\\nthe attention queries. PE denotes position\\nembeddings.The attention mechanism in Transformers ex-\\nhibits quadratic complexity in both memory\\nfootprint and computation time. For example,\\nthe attention Key-Value (KV) states have 3TB\\nmemory footprint for a 500B model with batch\\nsize 512 and context length 2048 (Pope et al.,\\n2023). Indeed, scaling LLMs to longer sequences\\n(i.e. 1M tokens) is challenging with the standard\\nTransformer architectures and serving longer\\nand longer context models becomes costly finan-\\ncially.\\nCompressive memory systems promise to be\\nmore scalable and efficient than the attention\\nmechanism for extremely long sequences (Kan-\\nerva, 1988; Munkhdalai et al., 2019). Instead\\nof using an array that grows with the input se-\\nquence length, a compressive memory primarily\\nmaintains a fixed number of parameters to store\\nand recall information with a bounded storage\\nand computation costs. In the compressive mem-\\nory, new information is added to the memory\\nby changing its parameters with an objective\\nthat this information can be recovered back later\\non. However, the LLMs in their current state\\nhave yet to see an effective, practical compres-\\nsive memory technique that balances simplicity along with quality.\\n1arXiv:2404.07143v1  [cs.CL]  10 Apr 2024', metadata={'source': 'C:\\\\Users\\\\alenp\\\\Downloads\\\\infinite_attention.pdf', 'page': 0}), Document(page_content='Preprint. Under review.\\nIn this work, we introduce a novel approach that enables Transformer LLMs to effectively\\nprocess infinitely long inputs with bounded memory footprint and computation. A key\\ncomponent in our proposed approach is a new attention technique dubbed Infini-attention\\n(Figure 1). The Infini-attention incorporates a compressive memory into the vanilla attention\\nmechanism (Bahdanau et al., 2014; Vaswani et al., 2017) and builds in both masked local\\nattention and long-term linear attention mechanisms in a single Transformer block.\\nSuch a subtle but critical modification to the Transformer attention layer enables a natural\\nextension of existing LLMs to infinitely long contexts via continual pre-training and fine-\\ntuning.\\nOur Infini-attention reuses all the key, value and query states of the standard attention\\ncomputation for long-term memory consolidation and retrieval. We store old KV states of\\nthe attention in the compressive memory, instead of discarding them like in the standard\\nattention mechanism. We then retrieve the values from the memory by using the attention\\nquery states when processing subsequent sequences. To compute the final contextual\\noutput, the Infini-attention aggregates the long-term memory-retrieved values and the local\\nattention contexts.\\nIn our experiments, we show that our approach outperforms baseline models on long-\\ncontext language modeling benchmarks while having 114x comprehension ratio in terms of\\nmemory size. The model achieves even better perplexity when trained with 100K sequence\\nlength. A 1B LLM naturally scales to 1M sequence length and solves the passkey retrieval\\ntask when injected with Infini-attention. Finally, we show that a 8B model with Infini-\\nattention reaches a new SOTA result on a 500K length book summarization task after\\ncontinual pre-training and task fine-tuning.\\nIn summary, our work makes the following contributions:\\n1.We introduce a practical and yet powerful attention mechanism – Infini-attention\\nwith long-term compressive memory and local causal attention for efficiently mod-\\neling both long and short-range contextual dependencies.\\n2.Infini-attention introduces minimal change to the standard scaled dot-product atten-\\ntion and supports plug-and-play continual pre-training and long-context adaptation\\nby design.\\n3.Our approach enables Transformer LLMs to scale to infinitely long context with a\\nbounded memory and compute resource by processing extremely long inputs in a\\nstreaming fashion.\\n2 Method\\nFigure 2 compares our model, Infini-Transformer, and Transformer-XL (Dai et al., 2019).\\nSimilar to Transformer-XL, Infini-Transformer operates on a sequence of segments. We\\ncompute the standard causal dot-product attention context within each segment. So the\\ndot-product attention computation is local in a sense that it covers a total Nnumber of\\ntokens of the current segment with index S(Nis the segment length).\\nThe local attention (Dai et al., 2019), however, discards the attention states of the previous\\nsegment when processing the next one. In Infini-Transformers, instead of leaving out the\\nold KV attention states, we propose to reuse them to maintain the entire context history\\nwith a compressive memory. So each attention layer of Infini-Transformers has both global\\ncompressive and local fine-grained states. We call such an efficient attention mechanism\\nInfini-attention, which is illustrated in Figure 1 and described formally in the following\\nsections.\\n2.1 Infini-attention\\nAs shown Figure 1, our Infini-attention computes both local and global context states and\\ncombine them for its output. Similar to multi-head attention (MHA), it maintains Hnumber\\n2', metadata={'source': 'C:\\\\Users\\\\alenp\\\\Downloads\\\\infinite_attention.pdf', 'page': 1}), Document(page_content='Preprint. Under review.\\nSegment 1 Segment 2 Segment 3 \\nSegment 1 Segment 2 Segment 3 Transformer block: Infini-T ransformer \\nT ransformer-XL Compressive memory: \\nMemory update: \\nMemory retrieval: \\nEffective context: \\nInput segment: Segment 1 \\nFigure 2: Infini-Transformer (top) has an entire context history whereas Transformer-XL\\n(bottom) discards old contexts since it caches the KV states for the last segment only.\\nof parallel compressive memory per attention layer ( His the number of attention heads) in\\naddition to the dot-product attention.\\n2.1.1 Scaled Dot-product Attention\\nThe multi-head scaled dot-product attention (Vaswani et al., 2017), specially its self-attention\\nvariant (Munkhdalai et al., 2016; Cheng et al., 2016), has been the main building block in\\nLLMs. The MHA’s strong capability to model context-dependent dynamic computation and\\nits conveniences of temporal masking have been leveraged extensively in the autoregressive\\ngenerative models.\\nA single head in the vanilla MHA computes its attention context Adot∈I RN×dvaluefrom\\nsequence of input segments X∈I RN×dmodel as follows. First, it computes attention query,\\nkey, and value states:\\nK=XW K,V=XW Vand Q=XW Q. (1)\\nHere, WK∈I Rdmodel×dkey,WV∈I Rdmodel×dvalueand WQ∈I Rdmodel×dkeyare trainable projection\\nmatrices. Then, the attention context is calculated as a weighted average of all other values\\nas\\nAdot=softmax\\x12QKT\\n√dmodel\\x13\\nV. (2)\\nFor MHA, we compute Hnumber of attention context vectors for each sequence element\\nin parallel, concatenate them along the second dimension and then finally project the\\nconcatenated vector to the model space to obtain attention the output.\\n2.1.2 Compressive Memory\\nIn Infini-attention, instead of computing new memory entries for compressive memory, we\\nreuse the query, key and value states ( Q,Kand V) from the dot-product attention compu-\\ntation. The state sharing and reusing between the dot-product attention and compressive\\nmemory not only enables efficient plug-in-play long-context adaptation but also speeds up\\ntraining and inference. Similar to the prior work (Munkhdalai et al., 2019), our goal is to\\nstore bindings of key and value states in the compressive memory and retrieve by using the\\nquery vectors.\\n3', metadata={'source': 'C:\\\\Users\\\\alenp\\\\Downloads\\\\infinite_attention.pdf', 'page': 2}), Document(page_content='Preprint. Under review.\\nWhile there are different forms of compressive memory proposed in the literature (Hop-\\nfield, 1982; Kanerva, 1988; Schlag et al., 2019; Munkhdalai et al., 2019), for simplicity and\\ncomputational efficiency, in this work we parameterize the memory with an associative\\nmatrix (Schlag et al., 2020). This approach further allows us to cast the memory update\\nand retrieval process as linear attention mechanism (Shen et al., 2018) and to leverage\\nstable training techniques from the related methods. Specially, we adopt the update rule\\nand retrieval mechanism by Katharopoulos et al. (2020) mainly due to its simplicity and\\ncompetitive performance.\\nMemory retrieval. In Infini-attention, we retrieve new content Amem∈I RN×dvaluefrom the\\nmemory Ms−1∈I Rdkey×dvalueby using the query Q∈I RN×dkeyas:\\nAmem=σ(Q)Ms−1\\nσ(Q)zs−1. (3)\\nHere, σand zs−1∈I Rdkeyare a nonlinear activation function and a normalization term,\\nrespectively. As the choice of the non-linearity and the norm method is crucial for training\\nstability, following Katharopoulos et al. (2020) we record a sum over all keys as the normal-\\nization term zs−1and use element-wise ELU + 1 as the activation function (Clevert et al.,\\n2015).\\nMemory update. Once the retrieval is done, we update the memory and the normalization\\nterm with the new KV entries and obtain the next states as\\nMs←Ms−1+σ(K)TVand zs←zs−1+N\\n∑\\nt=1σ(Kt). (4)\\nThe new memory states Msand zsare then passed to the next segment S+1, building in\\na recurrence in each attention layer. The right side term σ(K)TVin Eq. (4)is known as an\\nassociative binding operator (Smolensky, 1990; Hebb, 2005; Schlag et al., 2020).\\nInspired by the success of delta rule (Munkhdalai et al., 2019; Schlag et al., 2020; 2021),\\nwe have also incorporated it into our Infini-attention. The delta rule attempts a slightly\\nimproved memory update by first retrieving existing value entries and subtracting them\\nfrom the new values before applying the associative bindings as new update.\\nMs←Ms−1+σ(K)T(V−σ(K)Ms−1\\nσ(K)zs−1). (5)\\nThis update rule ( Linear +Delta ) leaves the associative matrix unmodified if the KV binding\\nalready exists in the memory while still tracking the same normalization term as the former\\none ( Linear ) for numerical stability.\\nLong-term context injection. We aggregate the local attention state Adotand memory\\nretrieved content Amemvia a learned gating scalar β:\\nA=sigmoid (β)⊙Amem+ (1−sigmoid (β))⊙Adot. (6)\\nThis adds only a single scalar value as training parameter per head while allowing a\\nlearnable trade-off between the long-term and local information flows in the model (Wu\\net al., 2022).\\nSimilar to the standard MHA, for the multi-head Infini-attention we compute Hnumber of\\ncontext states in parallel, and concatenate and project them for the final attention output\\nO∈I RN×dmodel:\\nO= [A1; . . .AH]WO (7)\\nwhere WO∈I RH×dvalue×dmodelis trainable weights.\\n2.2 Memory and Effective Context Window\\nOur Infini-Transformer enables an unbounded context window with a bounded memory\\nfootprint. To illustrate this, Table 1 lists the previous segment-level memory models with\\n4', metadata={'source': 'C:\\\\Users\\\\alenp\\\\Downloads\\\\infinite_attention.pdf', 'page': 3}), Document(page_content='Preprint. Under review.\\nModel Memory (cache) footprint Context length Memory update Memory retrieval\\nTransformer-XL (dkey+dvalue)×H×N×l N ×l Discarded Dot-product attention\\nCompressive Transformer dmodel×(c+N)×l (c×r+N)×l Discarded Dot-product attention\\nMemorizing Transformers (dkey+dvalue)×H×N×S N ×S None kNN + dot-product attention\\nRMT dmodel×p×l×2 N×S Discarded Soft-prompt input\\nAutoCompressors dmodel×p×(m+1)×l N ×S Discarded Soft-prompt input\\nInfini-Transformers dkey×(dvalue+1)×H×l N ×S Incremental Linear attention\\nTable 1: Transformer models with segment-level memory are compared. For each model, the\\nmemory size and effective context length are defined in terms of their model parameters ( N:\\ninput segment length, S: the number of segments, l: the number of layers, H: the number\\nof attention heads, c: Compressive Transformer memory size, r: compression ratio, p: the\\nnumber of soft-prompt summary vectors and m: summary vector accumulation steps).\\ntheir context-memory footprint and effective context length defined in terms of model\\nparameters and input segment length. Infini-Transformer has a constant memory complexity\\nofdkey×dvalue+dkeyfor storing compressed context in Msand zsfor each head in single\\nlayer while for the other models, the complexity grows along with the sequence dimension\\n- the memory complexity depends either on the cache size for Transformer-XL (Dai et al.,\\n2019), Compressive Transformer (Rae et al., 2019) and Memorizing Transformers (Wu et al.,\\n2022) or on the soft-prompt size for RTM (Bulatov et al., 2022) and AutoCompressors (Ge\\net al., 2023).\\nEarly \\nlayers \\nAttention heads \\nFigure 3: There are two types of heads\\nemerged in Infini-attention after training: spe-\\ncialized heads with gating score near 0 or\\n1 and mixer heads with score close to 0.5.\\nThe specialized heads either process contex-\\ntual information via the local attention mech-\\nanism or retrieve from the compressive mem-\\nory whereas the mixer heads aggregate both\\ncurrent contextual information and long-term\\nmemory content together into single output.Transformer-XL computes attention over KV\\nstates cached from the last segment in addition\\nto the current states. Since this is done for each\\nlayer, Transformer-XL extends the context win-\\ndow from NtoN×ltokens with an additional\\nmemory footprint of (dkey+dvalue)×H×N×l.\\nCompressive Transformer adds a second cache\\nto Transformer-XL and stores compressed rep-\\nresentations of past segment activations. So it\\nextends the Transformer-XL’s context window\\nbyc×r×lbut still has a large context-memory\\ncomplexity. Taking the idea further, Memoriz-\\ning Transformers opt to store the entire KV states\\nas context for input sequences. Since the stor-\\nage becomes prohibitively expensive in this case,\\nthey restrict the contextual computation to a sin-\\ngle layer only. By utilizing a fast kNN retriever,\\nMemorizing Transformers then build a context\\nwindow covering the entire sequence history of\\nlength N×Sat an increased cost of storage. Our\\nexperiments show that Infini-Transformer LM\\ncan achieve more than 100x compression rate on\\ntop of Memorizing Transformers while further\\nimproving the perplexity score.\\nRMT and AutoCompressors allow for a poten-\\ntially infinite context length since they compress\\nthe input into summary vectors and then pass\\nthem as extra soft-prompt inputs for the subsequent segments. However, in practice the\\nsuccess of those techniques highly depends on the size of soft-prompt vectors. Namely, it\\nis necessary to increase the number of soft-prompt (summary) vectors to achieve a better\\nperformance with AutoCompressors (Chevalier et al., 2023) and with that, the memory and\\ncompute complexity grow quickly resulting in diminished efficiency. It was also observed in\\nAutoCompressors (Chevalier et al., 2023) that an efficient compression objective is needed\\nfor training such prompt compression techniques (Ge et al., 2023).\\n5', metadata={'source': 'C:\\\\Users\\\\alenp\\\\Downloads\\\\infinite_attention.pdf', 'page': 4}), Document(page_content='Preprint. Under review.\\nModel Memory size (comp.) XL cache Segment length PG19 Arxiv-math\\nTransformer-XL 50M (3.7x) 2048 2048 11.88 2.42\\nMemorizing Transformers 183M (1x) 2048 2048 11.37 2.26\\nRMT 2.5M (73x) None 2048 13.27 2.55\\nInfini-Transformer (Linear) 1.6M (114x) None 2048 9.65 2.24\\nInfini-Transformer (Linear + Delta) 1.6M (114x) None 2048 9.67 2.23\\nTable 2: Long-context language modeling results are compared in terms of average token-\\nlevel perplexity. Comp. denotes compression ratio. Infini-Transformer outperforms memo-\\nrizing transformers with memory length of 65K and achieves 114x compression ratio.\\n3 Experiments\\nWe evaluated our Infini-Transformer models on benchmarks involving extremely long input\\nsequences: long-context language modeling, 1M length passkey context block retrieval\\nand 500K length book summarization tasks. For the language modeling benchmark, we\\ntrain our models from scratch while for the passkey and book summarization tasks, we\\ncontinually pre-train existing LLMs in order to highlight a plug-and-play long-context\\nadaptation capability of our approach.\\n3.1 Long-context Language Modeling\\nWe trained and evaluated small Infini-Transformer models on PG19 (Rae et al., 2019) and\\nArxiv-math (Wu et al., 2022) benchmarks. Our setup closely resembles that of Memorizing\\nTransformers (Wu et al., 2022). Namely, all our models have 12 layers and 8 attention heads\\nof dimension 128 each and FFNs with hidden layer 4096.\\nWe set the Infini-attention segment length Nto 2048 for all attention layers and the input\\nsequence length to 32768 for training. This allows the Infini-attention to unroll over 16 steps\\nw.r.t its compressive memory states. For the RMT baseline, we performed several runs with\\nsummary prompt lengths 50, 100 and 150 and sequence lengths 4096, 8196 and 32768. RMT\\nwith 100 summary vectors gave the best result when trained on 8196 length sequences.\\nThe main results from the language modeling experiments are summarized in Table 2. Our\\nInfini-Transformer outperforms both Transformer-XL (Dai et al., 2019) and Memorizing\\nTransformers (Wu et al., 2022) baselines while maintaining 114x less memory parameters\\nthan the Memorizing Transformer model with a vector retrieval-based KV memory with\\nlength of 65K at its 9thlayer.\\n100K length training. We further increased the training sequence length to 100K from\\n32K and trained the models on Arxiv-math dataset. 100K training further decreased the\\nperplexity score to 2.21 and 2.20 forLinear and Linear +Delta models.\\nGating score visualization. Figure 3 visualizes the gating score, sigmoid (β)for the compres-\\nsive memory for all attention heads in each layer. There are two types of heads emerged in\\nInfini-attention after training: specialized heads with a gating score near 0 or 1 and mixer\\nheads with a score close to 0.5. The specialized heads either process contextual information\\nvia the local attention computation or retrieve from the compressive memory whereas the\\nZero-shot\\n32K 128K 256K 512K 1M\\nInfini-Transformer (Linear) 14/13/98 11/14/100 6/3/100 6/7/99 8/6/98\\nInfini-Transformer (Linear + Delta) 13/11/99 6/9/99 7/5/99 6/8/97 7/6/97\\nFT (400 steps)\\nInfini-Transformer (Linear) 100/100/100 100/100/100 100/100/100 97/99/100 96/94/100\\nInfini-Transformer (Linear + Delta) 100/100/100 100/100/99 100/100/99 100/100/100 100/100/100\\nTable 3: Infini-Transformers solved the passkey task with up to 1M context length when\\nfine-tuned on 5K length inputs. We report token-level retrieval accuracy for passkeys hidden\\nin a different part ( start/middle/end ) of long inputs with lengths 32K to 1M.\\n6', metadata={'source': 'C:\\\\Users\\\\alenp\\\\Downloads\\\\infinite_attention.pdf', 'page': 5}), Document(page_content='Preprint. Under review.\\nModel Rouge-1 Rouge-2 Rouge-L Overall\\nBART 36.4 7.6 15.3 16.2\\nBART + Unlimiformer 36.8 8.3 15.7 16.9\\nPRIMERA 38.6 7.2 15.6 16.3\\nPRIMERA + Unlimiformer 37.9 8.2 16.3 17.2\\nInfini-Transformers (Linear) 37.9 8.7 17.6 18.0\\nInfini-Transformers (Linear + Delta) 40.0 8.8 17.9 18.5\\nTable 4: 500K length book summarization (BookSum) results. The BART, PRIMERA and\\nUnlimiformer results are from Bertsch et al. (2024).\\nmixer heads aggregate both current contextual information and long-term memory content\\ntogether into a single output. Interestingly, each layer has at least a single short-range\\nhead, allowing a forward-propagation of input signal up until the output layer. We also\\nobserved an interleaving of long and short-term content retrievals throughout the forward\\ncomputation.\\n3.2 LLM Continual Pre-training\\nWe performed a lightweight continual pre-training for long-context adaptation of existing\\nLLMs. The pre-training data includes the PG19 and Arxiv-math corpus as well as C4\\ntext (Raffel et al., 2020) with length more than 4K tokens. The segment length Nwas set to\\n2K throughout our experiments.\\n1M passkey retrieval benchmark. We replaced the vanilla MHA in a 1B LLM with Infini-\\nattention and continued to pre-train on inputs with length of 4K. The model was trained for\\n30K steps with batch size of 64 before fine-tuning on the passkey retrieval task (Mohtashami\\n& Jaggi, 2024).\\nThe passkey task hides a random number into a long text and asks it back at the model\\noutput. The length of the distraction text is varied by repeating a text chunk multiple times.\\nThe previous work (Chen et al., 2023a) showed that a 8B LLaMA model can solve the task up\\nto 32K length when fine-tuned with the same 32K length inputs with Position Interpolation.\\nWe take this challenge further and fine-tune on only 5K length inputs to test on 1M length\\nregime.\\nInput lengthRouge overall score\\n17181920\\n16K 32K 64K 128K 256K 500K\\nFigure 4: Infini-Transformers obtain better\\nRouge overall scores with more book text pro-\\nvided as input.Table 3 reports the token-level accuracy for\\ntest subsets with input lengths ranging from\\n32K to 1M. For each test subset, we con-\\ntrolled the position of the passkey so that it\\nis either located around the beginning, mid-\\ndle or the end of the input sequence. We\\nreported both zero-shot accuracy and fine-\\ntuning accuracy. Infini-Transformers solved\\nthe task with up to 1M context length af-\\nter fine-tuning on 5K length inputs for 400\\nsteps.\\n500K length book summarization (Book-\\nSum). We further scaled our approach by\\ncontinuously pre-training a 8B LLM model\\nwith 8K input length for 30K steps. We then\\nfine-tuned on a book summarization task,\\nBookSum (Kry ´sci´nski et al., 2021) where the\\ngoal is to generate a summary of an entire\\nbook text.\\nWe set the input length to 32K for fine-tuning and increase to 500K for evaluating. We use a\\ngeneration temperature of 0.5 and top p=0.95 and set the number of decoding steps to 1024\\nto generate a summary of each book.\\n7', metadata={'source': 'C:\\\\Users\\\\alenp\\\\Downloads\\\\infinite_attention.pdf', 'page': 6}), Document(page_content='Preprint. Under review.\\nTable 4 compares our model against the encoder-decoder models that were built particularly\\nfor the summarization task (Lewis et al., 2019; Xiao et al., 2021) and their retrieval-based\\nlong-context extension (Bertsch et al., 2024). Our model outperforms the previous best\\nresults and achieves a new SOTA on BookSum by processing the entire text from book. We\\nhave also plotted the overall Rouge score on validation split of BookSum data in Figure 4.\\nThere is a clear trend showing that with more text provided as input from books, Our\\nInfini-Transformers improves its summarization performance metric.\\n4 Related Work\\nCompressive memory. Inspired by the plasticity in biological neurons (Munkhdalai & Yu,\\n2017a; Miconi et al., 2018), compressive memory approaches cast parameterized functions\\nas memory to store and retrieve information (Hinton & Plaut, 1987; Schmidhuber, 1992; Ba\\net al., 2016; Munkhdalai et al., 2019). Unlike the Transformer KV memory array (Vaswani\\net al., 2017; Wu et al., 2022), which grows with input sequence length, compressive memory\\nsystems maintain a constant number of memory parameters for computational efficiency.\\nThe parameters are modified with an update rule to store information, which is then\\nretrieved via a memory reading mechanism (Graves et al., 2014; Sukhbaatar et al., 2015;\\nMunkhdalai & Yu, 2017b).\\nCompressed input representations can be viewed as a summary of past sequence seg-\\nments (Rae et al., 2019; Chevalier et al., 2023). Along this direction, more recent works\\nhave been utilizing a Transformer LLM itself to compress input sequence for efficient long-\\ncontext modeling (Bulatov et al., 2022; Chevalier et al., 2023; Ge et al., 2023; Mu et al.,\\n2024). However, the previous segment-level compression methods, including Compressive\\nTransformers (Rae et al., 2019) still discard the memory entries of old segments in order to\\nfree up space for the new ones, limiting their context window to the most recent segments.\\nThis is in contrast to our Infini-attention that computes incremental memory updates to a\\nfixed amount of memory parameters in a recurrent fashion.\\nLong-context continual pre-training. There is a line of work that extends the do-product\\nattention layers and continues to train LLMs for long-context (Xiong et al., 2023; Fu et al.,\\n2024). The attention extensions include incorporating sparsity into the attention layer (Chen\\net al., 2023b; Ratner et al., 2022; Mohtashami & Jaggi, 2024) as well as manipulating the\\nposition encodings (Chen et al., 2023a; Peng et al., 2023) Although the position encoding-\\nbased methods such as position interpolation techniques (Chen et al., 2023a) can be data\\nefficient as they only adjust the positional bias in the attention layer, they are still costly for\\ninference.\\nThe attention mechanism is also prone to the issues of attention sink (Xiao et al., 2023) and\\nlost-in-the-middle (Liu et al., 2024). Consequently, they struggle in a regime where context\\nlength is longer than what was observed during training (Press et al., 2021; Kazemnejad\\net al., 2024). The proposed Infini-attention addresses those issues by enabling a segment-\\nlevel streaming computation over long sequences with a fixed local attention window. Our\\nInfini-Transformers successfully extrapolate to 1M input length regimes when trained on\\n32K and even 5K length sequences.\\nEfficient attention. The efficient attention techniques attempt to improve the efficiency of\\nthe dot-product attention with an approximation or a system-level optimization. Multiple\\ndirections have been explored for different forms of efficient attention approximation,\\nincluding sparsity-based (Child et al., 2019; Beltagy et al., 2020; Sukhbaatar et al., 2021;\\nDing et al., 2023) and linear attention approximation (Shen et al., 2018; Katharopoulos et al.,\\n2020; Schlag et al., 2021). Among those, the linear attention variants are closely related', metadata={'source': 'C:\\\\Users\\\\alenp\\\\Downloads\\\\infinite_attention.pdf', 'page': 7}), Document(page_content='Ding et al., 2023) and linear attention approximation (Shen et al., 2018; Katharopoulos et al.,\\n2020; Schlag et al., 2021). Among those, the linear attention variants are closely related\\nto the associative memory matrix (Schlag et al., 2020; 2021) and the metalearned neural\\nmemory (Munkhdalai et al., 2019), where KV bindings (Smolensky, 1990) are stored in\\nFast-Weights (Hinton & Plaut, 1987; Schmidhuber, 1992; Ba et al., 2016) that are modified\\nin with respect to new contextual information. More recently, system-level optimization\\ntechniques have been proposed by leveraging specific hardware architecture to make the\\nexact attention computation more efficient (Dao et al., 2022; Liu et al., 2023).\\n8', metadata={'source': 'C:\\\\Users\\\\alenp\\\\Downloads\\\\infinite_attention.pdf', 'page': 7}), Document(page_content='Preprint. Under review.\\n5 Conclusion\\nAn effective memory system is crucial not just for comprehending long contexts with LLMs,\\nbut also for reasoning, planning, continual adaptation for fresh knowledge, and even for\\nlearning how to learn. This work introduces a close integration of compressive memory mod-\\nule into the vanilla dot-product attention layer. This subtle but critical modification to the\\nattention layer enables LLMs to process infinitely long contexts with bounded memory and\\ncomputation resources. We show that our approach can naturally scale to a million length\\nregime of input sequences, while outperforming the baselines on long-context language\\nmodeling benchmark and book summarization tasks. We also demonstrate a promising\\nlength generalization capability of our approach. 1B model that was fine-tuned on up to 5K\\nsequence length passkey instances solved the 1M length problem.\\nReferences\\nRohan Anil, Andrew M Dai, Orhan Firat, Melvin Johnson, Dmitry Lepikhin, Alexandre\\nPassos, Siamak Shakeri, Emanuel Taropa, Paige Bailey, Zhifeng Chen, et al. Palm 2\\ntechnical report. arXiv preprint arXiv:2305.10403 , 2023.\\nJimmy Ba, Geoffrey E Hinton, Volodymyr Mnih, Joel Z Leibo, and Catalin Ionescu. Using\\nfast weights to attend to the recent past. Advances in neural information processing systems ,\\n29, 2016.\\nDzmitry Bahdanau, Kyunghyun Cho, and Yoshua Bengio. Neural machine translation by\\njointly learning to align and translate. arXiv preprint arXiv:1409.0473 , 2014.\\nIz Beltagy, Matthew E Peters, and Arman Cohan. Longformer: The long-document trans-\\nformer. arXiv preprint arXiv:2004.05150 , 2020.\\nAmanda Bertsch, Uri Alon, Graham Neubig, and Matthew Gormley. Unlimiformer: Long-\\nrange transformers with unlimited length input. Advances in Neural Information Processing\\nSystems , 36, 2024.\\nTom Brown, Benjamin Mann, Nick Ryder, Melanie Subbiah, Jared D Kaplan, Prafulla\\nDhariwal, Arvind Neelakantan, Pranav Shyam, Girish Sastry, Amanda Askell, et al.\\nLanguage models are few-shot learners. Advances in neural information processing systems ,\\n33:1877–1901, 2020.\\nAydar Bulatov, Yury Kuratov, and Mikhail Burtsev. Recurrent memory transformer. Advances\\nin Neural Information Processing Systems , 35:11079–11091, 2022.\\nShouyuan Chen, Sherman Wong, Liangjian Chen, and Yuandong Tian. Extending con-\\ntext window of large language models via positional interpolation. arXiv preprint\\narXiv:2306.15595 , 2023a.\\nYukang Chen, Shengju Qian, Haotian Tang, Xin Lai, Zhijian Liu, Song Han, and Jiaya Jia.\\nLonglora: Efficient fine-tuning of long-context large language models. arXiv preprint\\narXiv:2309.12307 , 2023b.\\nJianpeng Cheng, Li Dong, and Mirella Lapata. Long short-term memory-networks for\\nmachine reading. arXiv preprint arXiv:1601.06733 , 2016.\\nAlexis Chevalier, Alexander Wettig, Anirudh Ajith, and Danqi Chen. Adapting language\\nmodels to compress contexts. arXiv preprint arXiv:2305.14788 , 2023.\\nRewon Child, Scott Gray, Alec Radford, and Ilya Sutskever. Generating long sequences with\\nsparse transformers. arXiv preprint arXiv:1904.10509 , 2019.\\nDjork-Arn ´e Clevert, Thomas Unterthiner, and Sepp Hochreiter. Fast and accurate deep\\nnetwork learning by exponential linear units (elus). arXiv preprint arXiv:1511.07289 , 2015.\\n9', metadata={'source': 'C:\\\\Users\\\\alenp\\\\Downloads\\\\infinite_attention.pdf', 'page': 8}), Document(page_content='Preprint. Under review.\\nZihang Dai, Zhilin Yang, Yiming Yang, Jaime Carbonell, Quoc V Le, and Ruslan Salakhut-\\ndinov. Transformer-xl: Attentive language models beyond a fixed-length context. arXiv\\npreprint arXiv:1901.02860 , 2019.\\nTri Dao, Dan Fu, Stefano Ermon, Atri Rudra, and Christopher R ´e. Flashattention: Fast\\nand memory-efficient exact attention with io-awareness. Advances in Neural Information\\nProcessing Systems , 35:16344–16359, 2022.\\nJiayu Ding, Shuming Ma, Li Dong, Xingxing Zhang, Shaohan Huang, Wenhui Wang,\\nNanning Zheng, and Furu Wei. Longnet: Scaling transformers to 1,000,000,000 tokens.\\narXiv preprint arXiv:2307.02486 , 2023.\\nYao Fu, Rameswar Panda, Xinyao Niu, Xiang Yue, Hannaneh Hajishirzi, Yoon Kim, and\\nHao Peng. Data engineering for scaling language models to 128k context. arXiv preprint\\narXiv:2402.10171 , 2024.\\nTao Ge, Jing Hu, Xun Wang, Si-Qing Chen, and Furu Wei. In-context autoencoder for context\\ncompression in a large language model. arXiv preprint arXiv:2307.06945 , 2023.\\nAlex Graves, Greg Wayne, and Ivo Danihelka. Neural turing machines. arXiv preprint\\narXiv:1410.5401 , 2014.\\nDirk Groeneveld, Iz Beltagy, Pete Walsh, Akshita Bhagia, Rodney Kinney, Oyvind Tafjord,\\nAnanya Harsh Jha, Hamish Ivison, Ian Magnusson, Yizhong Wang, et al. Olmo: Acceler-\\nating the science of language models. arXiv preprint arXiv:2402.00838 , 2024.\\nDonald Olding Hebb. The organization of behavior: A neuropsychological theory . Psychology\\npress, 2005.\\nGeoffrey E Hinton and David C Plaut. Using fast weights to deblur old memories. In\\nProceedings of the ninth annual conference of the Cognitive Science Society , pp. 177–186, 1987.\\nJohn J Hopfield. Neural networks and physical systems with emergent collective computa-\\ntional abilities. Proceedings of the national academy of sciences , 79(8):2554–2558, 1982.\\nPentti Kanerva. Sparse distributed memory . MIT press, 1988.\\nAngelos Katharopoulos, Apoorv Vyas, Nikolaos Pappas, and Fran c ¸ois Fleuret. Transformers\\nare rnns: Fast autoregressive transformers with linear attention. In International conference\\non machine learning , pp. 5156–5165. PMLR, 2020.\\nAmirhossein Kazemnejad, Inkit Padhi, Karthikeyan Natesan Ramamurthy, Payel Das, and\\nSiva Reddy. The impact of positional encoding on length generalization in transformers.\\nAdvances in Neural Information Processing Systems , 36, 2024.\\nWojciech Kry ´sci´nski, Nazneen Rajani, Divyansh Agarwal, Caiming Xiong, and Dragomir\\nRadev. Booksum: A collection of datasets for long-form narrative summarization. arXiv\\npreprint arXiv:2105.08209 , 2021.\\nMike Lewis, Yinhan Liu, Naman Goyal, Marjan Ghazvininejad, Abdelrahman Mohamed,\\nOmer Levy, Ves Stoyanov, and Luke Zettlemoyer. Bart: Denoising sequence-to-sequence\\npre-training for natural language generation, translation, and comprehension. arXiv\\npreprint arXiv:1910.13461 , 2019.\\nHao Liu, Matei Zaharia, and Pieter Abbeel. Ring attention with blockwise transformers for\\nnear-infinite context. arXiv preprint arXiv:2310.01889 , 2023.\\nNelson F Liu, Kevin Lin, John Hewitt, Ashwin Paranjape, Michele Bevilacqua, Fabio Petroni,\\nand Percy Liang. Lost in the middle: How language models use long contexts. Transactions\\nof the Association for Computational Linguistics , 12:157–173, 2024.\\nThomas Miconi, Kenneth Stanley, and Jeff Clune. Differentiable plasticity: training plastic\\nneural networks with backpropagation. In International Conference on Machine Learning ,\\npp. 3559–3568. PMLR, 2018.\\n10', metadata={'source': 'C:\\\\Users\\\\alenp\\\\Downloads\\\\infinite_attention.pdf', 'page': 9}), Document(page_content='Preprint. Under review.\\nAmirkeivan Mohtashami and Martin Jaggi. Random-access infinite context length for\\ntransformers. Advances in Neural Information Processing Systems , 36, 2024.\\nJesse Mu, Xiang Li, and Noah Goodman. Learning to compress prompts with gist tokens.\\nAdvances in Neural Information Processing Systems , 36, 2024.\\nTsendsuren Munkhdalai and Hong Yu. Meta networks. In International conference on machine\\nlearning , pp. 2554–2563. PMLR, 2017a.\\nTsendsuren Munkhdalai and Hong Yu. Neural semantic encoders. In Proceedings of the\\nconference. Association for Computational Linguistics. Meeting , volume 1, pp. 397. NIH Public\\nAccess, 2017b.\\nTsendsuren Munkhdalai, John P Lalor, and Hong Yu. Citation analysis with neural attention\\nmodels. In Proceedings of the Seventh International Workshop on Health Text Mining and\\nInformation Analysis , pp. 69–77, 2016.\\nTsendsuren Munkhdalai, Alessandro Sordoni, Tong Wang, and Adam Trischler. Metalearned\\nneural memory. Advances in Neural Information Processing Systems , 32, 2019.\\nBowen Peng, Jeffrey Quesnelle, Honglu Fan, and Enrico Shippole. Yarn: Efficient context\\nwindow extension of large language models. arXiv preprint arXiv:2309.00071 , 2023.\\nReiner Pope, Sholto Douglas, Aakanksha Chowdhery, Jacob Devlin, James Bradbury,\\nJonathan Heek, Kefan Xiao, Shivani Agrawal, and Jeff Dean. Efficiently scaling trans-\\nformer inference. Proceedings of Machine Learning and Systems , 5, 2023.\\nOfir Press, Noah A Smith, and Mike Lewis. Train short, test long: Attention with linear\\nbiases enables input length extrapolation. arXiv preprint arXiv:2108.12409 , 2021.\\nJack W Rae, Anna Potapenko, Siddhant M Jayakumar, and Timothy P Lillicrap. Compressive\\ntransformers for long-range sequence modelling. arXiv preprint arXiv:1911.05507 , 2019.\\nColin Raffel, Noam Shazeer, Adam Roberts, Katherine Lee, Sharan Narang, Michael Matena,\\nYanqi Zhou, Wei Li, and Peter J Liu. Exploring the limits of transfer learning with a\\nunified text-to-text transformer. The Journal of Machine Learning Research , 21(1):5485–5551,\\n2020.\\nNir Ratner, Yoav Levine, Yonatan Belinkov, Ori Ram, Omri Abend, Ehud Karpas, Amnon\\nShashua, Kevin Leyton-Brown, and Yoav Shoham. Parallel context windows improve\\nin-context learning of large language models. arXiv preprint arXiv:2212.10947 , 2022.\\nImanol Schlag, Paul Smolensky, Roland Fernandez, Nebojsa Jojic, J ¨urgen Schmidhuber,\\nand Jianfeng Gao. Enhancing the transformer with explicit relational encoding for math\\nproblem solving. arXiv preprint arXiv:1910.06611 , 2019.\\nImanol Schlag, Tsendsuren Munkhdalai, and J ¨urgen Schmidhuber. Learning associative\\ninference using fast weight memory. arXiv preprint arXiv:2011.07831 , 2020.\\nImanol Schlag, Kazuki Irie, and J ¨urgen Schmidhuber. Linear transformers are secretly\\nfast weight programmers. In International Conference on Machine Learning , pp. 9355–9366.\\nPMLR, 2021.\\nJ¨urgen Schmidhuber. Learning to control fast-weight memories: An alternative to dynamic\\nrecurrent networks. Neural Computation , 4(1):131–139, 1992.\\nNoam Shazeer and Mitchell Stern. Adafactor: Adaptive learning rates with sublinear\\nmemory cost. In International Conference on Machine Learning , pp. 4596–4604. PMLR, 2018.\\nZhuoran Shen, Mingyuan Zhang, Haiyu Zhao, Shuai Yi, and Hongsheng Li. Efficient\\nattention: Attention with linear complexities. arXiv preprint arXiv:1812.01243 , 2018.\\nPaul Smolensky. Tensor product variable binding and the representation of symbolic\\nstructures in connectionist systems. Artificial intelligence , 46(1-2):159–216, 1990.\\n11', metadata={'source': 'C:\\\\Users\\\\alenp\\\\Downloads\\\\infinite_attention.pdf', 'page': 10}), Document(page_content='Preprint. Under review.\\nSainbayar Sukhbaatar, Jason Weston, Rob Fergus, et al. End-to-end memory networks.\\nAdvances in neural information processing systems , 28, 2015.\\nSainbayar Sukhbaatar, Da Ju, Spencer Poff, Stephen Roller, Arthur Szlam, Jason Weston,\\nand Angela Fan. Not all memories are created equal: Learning to forget by expiring. In\\nInternational Conference on Machine Learning , pp. 9902–9912. PMLR, 2021.\\nHugo Touvron, Louis Martin, Kevin Stone, Peter Albert, Amjad Almahairi, Yasmine Babaei,\\nNikolay Bashlykov, Soumya Batra, Prajjwal Bhargava, Shruti Bhosale, et al. Llama 2:\\nOpen foundation and fine-tuned chat models. arXiv preprint arXiv:2307.09288 , 2023.\\nAshish Vaswani, Noam Shazeer, Niki Parmar, Jakob Uszkoreit, Llion Jones, Aidan N Gomez,\\nŁukasz Kaiser, and Illia Polosukhin. Attention is all you need. Advances in neural informa-\\ntion processing systems , 30, 2017.\\nYuhuai Wu, Markus N Rabe, DeLesley Hutchins, and Christian Szegedy. Memorizing\\ntransformers. arXiv preprint arXiv:2203.08913 , 2022.\\nGuangxuan Xiao, Yuandong Tian, Beidi Chen, Song Han, and Mike Lewis. Efficient stream-\\ning language models with attention sinks. arXiv preprint arXiv:2309.17453 , 2023.\\nWen Xiao, Iz Beltagy, Giuseppe Carenini, and Arman Cohan. Primera: Pyramid-\\nbased masked sentence pre-training for multi-document summarization. arXiv preprint\\narXiv:2110.08499 , 2021.\\nWenhan Xiong, Jingyu Liu, Igor Molybog, Hejia Zhang, Prajjwal Bhargava, Rui Hou, Louis\\nMartin, Rashi Rungta, Karthik Abinav Sankararaman, Barlas Oguz, et al. Effective\\nlong-context scaling of foundation models. arXiv preprint arXiv:2309.16039 , 2023.\\nA Additional Training Details\\nFor the long-context language modeling task, we set the learning rate to 0.01 by perform-\\ning small search over values of 0.003, 0.005, 0.01 and 0.03. We used the Adafactor opti-\\nmizer (Shazeer & Stern, 2018) with linear warmup with 1000 steps, followed by cosine\\ndecay. We applied gradient checkpointing after each segment to save to save memory. The\\nbatch size was set to 64. For the LLM experiments, we set the learning rate to 0.0001 during\\ncontinual pre-training and task fine-tuning.\\nB Passkey Retrieval Task\\nBelow we showed the input format of the passkey task.\\nThere is an important info hidden inside a lot of irrelevant text. Find it and memorize them. I\\nwill quiz you about the important information there. The grass is green. The sky is blue. The sun\\nis yellow. Here we go. There and back again. (repeat x times) The pass key is 9054 . Remember\\nit.9054 is the pass key. The grass is green. The sky is blue. The sun is yellow. Here we go.\\nThere and ack again. (repeat y times) What is the pass key? The pass key is\\n12', metadata={'source': 'C:\\\\Users\\\\alenp\\\\Downloads\\\\infinite_attention.pdf', 'page': 11})]\n"
     ]
    }
   ],
   "source": [
    "loader = PyPDFLoader(r\"C:\\Users\\alenp\\Downloads\\infinite_attention.pdf\")\n",
    "pages = loader.load_and_split()\n",
    "print(type(pages))\n",
    "print(pages)\n"
   ]
  },
  {
   "cell_type": "code",
   "execution_count": 2,
   "id": "b457436d-72b2-4677-9dde-912041d55c77",
   "metadata": {
    "tags": []
   },
   "outputs": [],
   "source": [
    "import PyPDF2"
   ]
  },
  {
   "cell_type": "code",
   "execution_count": 3,
   "id": "ae084ed9-bb73-4e99-9d8d-1309bcdf9be5",
   "metadata": {
    "tags": []
   },
   "outputs": [
    {
     "name": "stdout",
     "output_type": "stream",
     "text": [
      "Preprint. Under review.\n",
      "Leave No Context Behind:\n",
      "Efficient Infinite Context Transformers with Infini-attention\n",
      "Tsendsuren Munkhdalai, Manaal Faruqui and Siddharth Gopal\n",
      "Google\n",
      "tsendsuren@google.com\n",
      "Abstract\n",
      "This work introduces an efficient method to scale Transformer-based Large\n",
      "Language Models (LLMs) to infinitely long inputs with bounded memory\n",
      "and computation. A key component in our proposed approach is a new at-\n",
      "tention technique dubbed Infini-attention. The Infini-attention incorporates\n",
      "a compressive memory into the vanilla attention mechanism and builds\n",
      "in both masked local attention and long-term linear attention mechanisms\n",
      "in a single Transformer block. We demonstrate the effectiveness of our\n",
      "approach on long-context language modeling benchmarks, 1M sequence\n",
      "length passkey context block retrieval and 500K length book summarization\n",
      "tasks with 1B and 8B LLMs. Our approach introduces minimal bounded\n",
      "memory parameters and enables fast streaming inference for LLMs.\n",
      "1 Introduction\n",
      "Memory serves as a cornerstone of intelligence, as it enables efficient computations tailored\n",
      "to specific contexts. However, Transformers (Vaswani et al., 2017) and Transformer-based\n",
      "LLMs (Brown et al., 2020; Touvron et al., 2023; Anil et al., 2023; Groeneveld et al., 2024) have\n",
      "a constrained context-dependent memory, due to the nature of the attention mechanism.\n",
      "Update \n",
      "VVConcat Concat \n",
      "Q V\n",
      "Q V\n",
      "Qs{KV}sCompressive memory & \n",
      "Linear attention Causal scaled dot-product \n",
      "attention & PE Linear \n",
      "projection \n",
      "{KV}s-1Retrieve \n",
      "Figure 1: Infini-attention has an addi-\n",
      "tional compressive memory with linear\n",
      "attention for processing infinitely long\n",
      "contexts. {KV}s−1and{KV}sare atten-\n",
      "tion key and values for current and previ-\n",
      "ous input segments, respectively and Qs\n",
      "the attention queries. PE denotes position\n",
      "embeddings.The attention mechanism in Transformers ex-\n",
      "hibits quadratic complexity in both memory\n",
      "footprint and computation time. For example,\n",
      "the attention Key-Value (KV) states have 3TB\n",
      "memory footprint for a 500B model with batch\n",
      "size 512 and context length 2048 (Pope et al.,\n",
      "2023). Indeed, scaling LLMs to longer sequences\n",
      "(i.e. 1M tokens) is challenging with the standard\n",
      "Transformer architectures and serving longer\n",
      "and longer context models becomes costly finan-\n",
      "cially.\n",
      "Compressive memory systems promise to be\n",
      "more scalable and efficient than the attention\n",
      "mechanism for extremely long sequences (Kan-\n",
      "erva, 1988; Munkhdalai et al., 2019). Instead\n",
      "of using an array that grows with the input se-\n",
      "quence length, a compressive memory primarily\n",
      "maintains a fixed number of parameters to store\n",
      "and recall information with a bounded storage\n",
      "and computation costs. In the compressive mem-\n",
      "ory, new information is added to the memory\n",
      "by changing its parameters with an objective\n",
      "that this information can be recovered back later\n",
      "on. However, the LLMs in their current state\n",
      "have yet to see an effective, practical compres-\n",
      "sive memory technique that balances simplicity along with quality.\n",
      "1arXiv:2404.07143v1  [cs.CL]  10 Apr 2024Preprint. Under review.\n",
      "In this work, we introduce a novel approach that enables Transformer LLMs to effectively\n",
      "process infinitely long inputs with bounded memory footprint and computation. A key\n",
      "component in our proposed approach is a new attention technique dubbed Infini-attention\n",
      "(Figure 1). The Infini-attention incorporates a compressive memory into the vanilla attention\n",
      "mechanism (Bahdanau et al., 2014; Vaswani et al., 2017) and builds in both masked local\n",
      "attention and long-term linear attention mechanisms in a single Transformer block.\n",
      "Such a subtle but critical modification to the Transformer attention layer enables a natural\n",
      "extension of existing LLMs to infinitely long contexts via continual pre-training and fine-\n",
      "tuning.\n",
      "Our Infini-attention reuses all the key, value and query states of the standard attention\n",
      "computation for long-term memory consolidation and retrieval. We store old KV states of\n",
      "the attention in the compressive memory, instead of discarding them like in the standard\n",
      "attention mechanism. We then retrieve the values from the memory by using the attention\n",
      "query states when processing subsequent sequences. To compute the final contextual\n",
      "output, the Infini-attention aggregates the long-term memory-retrieved values and the local\n",
      "attention contexts.\n",
      "In our experiments, we show that our approach outperforms baseline models on long-\n",
      "context language modeling benchmarks while having 114x comprehension ratio in terms of\n",
      "memory size. The model achieves even better perplexity when trained with 100K sequence\n",
      "length. A 1B LLM naturally scales to 1M sequence length and solves the passkey retrieval\n",
      "task when injected with Infini-attention. Finally, we show that a 8B model with Infini-\n",
      "attention reaches a new SOTA result on a 500K length book summarization task after\n",
      "continual pre-training and task fine-tuning.\n",
      "In summary, our work makes the following contributions:\n",
      "1.We introduce a practical and yet powerful attention mechanism – Infini-attention\n",
      "with long-term compressive memory and local causal attention for efficiently mod-\n",
      "eling both long and short-range contextual dependencies.\n",
      "2.Infini-attention introduces minimal change to the standard scaled dot-product atten-\n",
      "tion and supports plug-and-play continual pre-training and long-context adaptation\n",
      "by design.\n",
      "3.Our approach enables Transformer LLMs to scale to infinitely long context with a\n",
      "bounded memory and compute resource by processing extremely long inputs in a\n",
      "streaming fashion.\n",
      "2 Method\n",
      "Figure 2 compares our model, Infini-Transformer, and Transformer-XL (Dai et al., 2019).\n",
      "Similar to Transformer-XL, Infini-Transformer operates on a sequence of segments. We\n",
      "compute the standard causal dot-product attention context within each segment. So the\n",
      "dot-product attention computation is local in a sense that it covers a total Nnumber of\n",
      "tokens of the current segment with index S(Nis the segment length).\n",
      "The local attention (Dai et al., 2019), however, discards the attention states of the previous\n",
      "segment when processing the next one. In Infini-Transformers, instead of leaving out the\n",
      "old KV attention states, we propose to reuse them to maintain the entire context history\n",
      "with a compressive memory. So each attention layer of Infini-Transformers has both global\n",
      "compressive and local fine-grained states. We call such an efficient attention mechanism\n",
      "Infini-attention, which is illustrated in Figure 1 and described formally in the following\n",
      "sections.\n",
      "2.1 Infini-attention\n",
      "As shown Figure 1, our Infini-attention computes both local and global context states and\n",
      "combine them for its output. Similar to multi-head attention (MHA), it maintains Hnumber\n",
      "2Preprint. Under review.\n",
      "Segment 1 Segment 2 Segment 3 \n",
      "Segment 1 Segment 2 Segment 3 Transformer block: Infini-T ransformer \n",
      "T ransformer-XL Compressive memory: \n",
      "Memory update: \n",
      "Memory retrieval: \n",
      "Effective context: \n",
      "Input segment: Segment 1 \n",
      "Figure 2: Infini-Transformer (top) has an entire context history whereas Transformer-XL\n",
      "(bottom) discards old contexts since it caches the KV states for the last segment only.\n",
      "of parallel compressive memory per attention layer ( His the number of attention heads) in\n",
      "addition to the dot-product attention.\n",
      "2.1.1 Scaled Dot-product Attention\n",
      "The multi-head scaled dot-product attention (Vaswani et al., 2017), specially its self-attention\n",
      "variant (Munkhdalai et al., 2016; Cheng et al., 2016), has been the main building block in\n",
      "LLMs. The MHA’s strong capability to model context-dependent dynamic computation and\n",
      "its conveniences of temporal masking have been leveraged extensively in the autoregressive\n",
      "generative models.\n",
      "A single head in the vanilla MHA computes its attention context Adot∈I RN×dvaluefrom\n",
      "sequence of input segments X∈I RN×dmodel as follows. First, it computes attention query,\n",
      "key, and value states:\n",
      "K=XW K,V=XW Vand Q=XW Q. (1)\n",
      "Here, WK∈I Rdmodel×dkey,WV∈I Rdmodel×dvalueand WQ∈I Rdmodel×dkeyare trainable projection\n",
      "matrices. Then, the attention context is calculated as a weighted average of all other values\n",
      "as\n",
      "Adot=softmax\u0012QKT\n",
      "√dmodel\u0013\n",
      "V. (2)\n",
      "For MHA, we compute Hnumber of attention context vectors for each sequence element\n",
      "in parallel, concatenate them along the second dimension and then finally project the\n",
      "concatenated vector to the model space to obtain attention the output.\n",
      "2.1.2 Compressive Memory\n",
      "In Infini-attention, instead of computing new memory entries for compressive memory, we\n",
      "reuse the query, key and value states ( Q,Kand V) from the dot-product attention compu-\n",
      "tation. The state sharing and reusing between the dot-product attention and compressive\n",
      "memory not only enables efficient plug-in-play long-context adaptation but also speeds up\n",
      "training and inference. Similar to the prior work (Munkhdalai et al., 2019), our goal is to\n",
      "store bindings of key and value states in the compressive memory and retrieve by using the\n",
      "query vectors.\n",
      "3Preprint. Under review.\n",
      "While there are different forms of compressive memory proposed in the literature (Hop-\n",
      "field, 1982; Kanerva, 1988; Schlag et al., 2019; Munkhdalai et al., 2019), for simplicity and\n",
      "computational efficiency, in this work we parameterize the memory with an associative\n",
      "matrix (Schlag et al., 2020). This approach further allows us to cast the memory update\n",
      "and retrieval process as linear attention mechanism (Shen et al., 2018) and to leverage\n",
      "stable training techniques from the related methods. Specially, we adopt the update rule\n",
      "and retrieval mechanism by Katharopoulos et al. (2020) mainly due to its simplicity and\n",
      "competitive performance.\n",
      "Memory retrieval. In Infini-attention, we retrieve new content Amem∈I RN×dvaluefrom the\n",
      "memory Ms−1∈I Rdkey×dvalueby using the query Q∈I RN×dkeyas:\n",
      "Amem=σ(Q)Ms−1\n",
      "σ(Q)zs−1. (3)\n",
      "Here, σand zs−1∈I Rdkeyare a nonlinear activation function and a normalization term,\n",
      "respectively. As the choice of the non-linearity and the norm method is crucial for training\n",
      "stability, following Katharopoulos et al. (2020) we record a sum over all keys as the normal-\n",
      "ization term zs−1and use element-wise ELU + 1 as the activation function (Clevert et al.,\n",
      "2015).\n",
      "Memory update. Once the retrieval is done, we update the memory and the normalization\n",
      "term with the new KV entries and obtain the next states as\n",
      "Ms←Ms−1+σ(K)TVand zs←zs−1+N\n",
      "∑\n",
      "t=1σ(Kt). (4)\n",
      "The new memory states Msand zsare then passed to the next segment S+1, building in\n",
      "a recurrence in each attention layer. The right side term σ(K)TVin Eq. (4)is known as an\n",
      "associative binding operator (Smolensky, 1990; Hebb, 2005; Schlag et al., 2020).\n",
      "Inspired by the success of delta rule (Munkhdalai et al., 2019; Schlag et al., 2020; 2021),\n",
      "we have also incorporated it into our Infini-attention. The delta rule attempts a slightly\n",
      "improved memory update by first retrieving existing value entries and subtracting them\n",
      "from the new values before applying the associative bindings as new update.\n",
      "Ms←Ms−1+σ(K)T(V−σ(K)Ms−1\n",
      "σ(K)zs−1). (5)\n",
      "This update rule ( Linear +Delta ) leaves the associative matrix unmodified if the KV binding\n",
      "already exists in the memory while still tracking the same normalization term as the former\n",
      "one ( Linear ) for numerical stability.\n",
      "Long-term context injection. We aggregate the local attention state Adotand memory\n",
      "retrieved content Amemvia a learned gating scalar β:\n",
      "A=sigmoid (β)⊙Amem+ (1−sigmoid (β))⊙Adot. (6)\n",
      "This adds only a single scalar value as training parameter per head while allowing a\n",
      "learnable trade-off between the long-term and local information flows in the model (Wu\n",
      "et al., 2022).\n",
      "Similar to the standard MHA, for the multi-head Infini-attention we compute Hnumber of\n",
      "context states in parallel, and concatenate and project them for the final attention output\n",
      "O∈I RN×dmodel:\n",
      "O= [A1; . . .AH]WO (7)\n",
      "where WO∈I RH×dvalue×dmodelis trainable weights.\n",
      "2.2 Memory and Effective Context Window\n",
      "Our Infini-Transformer enables an unbounded context window with a bounded memory\n",
      "footprint. To illustrate this, Table 1 lists the previous segment-level memory models with\n",
      "4Preprint. Under review.\n",
      "Model Memory (cache) footprint Context length Memory update Memory retrieval\n",
      "Transformer-XL (dkey+dvalue)×H×N×l N ×l Discarded Dot-product attention\n",
      "Compressive Transformer dmodel×(c+N)×l (c×r+N)×l Discarded Dot-product attention\n",
      "Memorizing Transformers (dkey+dvalue)×H×N×S N ×S None kNN + dot-product attention\n",
      "RMT dmodel×p×l×2 N×S Discarded Soft-prompt input\n",
      "AutoCompressors dmodel×p×(m+1)×l N ×S Discarded Soft-prompt input\n",
      "Infini-Transformers dkey×(dvalue+1)×H×l N ×S Incremental Linear attention\n",
      "Table 1: Transformer models with segment-level memory are compared. For each model, the\n",
      "memory size and effective context length are defined in terms of their model parameters ( N:\n",
      "input segment length, S: the number of segments, l: the number of layers, H: the number\n",
      "of attention heads, c: Compressive Transformer memory size, r: compression ratio, p: the\n",
      "number of soft-prompt summary vectors and m: summary vector accumulation steps).\n",
      "their context-memory footprint and effective context length defined in terms of model\n",
      "parameters and input segment length. Infini-Transformer has a constant memory complexity\n",
      "ofdkey×dvalue+dkeyfor storing compressed context in Msand zsfor each head in single\n",
      "layer while for the other models, the complexity grows along with the sequence dimension\n",
      "- the memory complexity depends either on the cache size for Transformer-XL (Dai et al.,\n",
      "2019), Compressive Transformer (Rae et al., 2019) and Memorizing Transformers (Wu et al.,\n",
      "2022) or on the soft-prompt size for RTM (Bulatov et al., 2022) and AutoCompressors (Ge\n",
      "et al., 2023).\n",
      "Early \n",
      "layers \n",
      "Attention heads \n",
      "Figure 3: There are two types of heads\n",
      "emerged in Infini-attention after training: spe-\n",
      "cialized heads with gating score near 0 or\n",
      "1 and mixer heads with score close to 0.5.\n",
      "The specialized heads either process contex-\n",
      "tual information via the local attention mech-\n",
      "anism or retrieve from the compressive mem-\n",
      "ory whereas the mixer heads aggregate both\n",
      "current contextual information and long-term\n",
      "memory content together into single output.Transformer-XL computes attention over KV\n",
      "states cached from the last segment in addition\n",
      "to the current states. Since this is done for each\n",
      "layer, Transformer-XL extends the context win-\n",
      "dow from NtoN×ltokens with an additional\n",
      "memory footprint of (dkey+dvalue)×H×N×l.\n",
      "Compressive Transformer adds a second cache\n",
      "to Transformer-XL and stores compressed rep-\n",
      "resentations of past segment activations. So it\n",
      "extends the Transformer-XL’s context window\n",
      "byc×r×lbut still has a large context-memory\n",
      "complexity. Taking the idea further, Memoriz-\n",
      "ing Transformers opt to store the entire KV states\n",
      "as context for input sequences. Since the stor-\n",
      "age becomes prohibitively expensive in this case,\n",
      "they restrict the contextual computation to a sin-\n",
      "gle layer only. By utilizing a fast kNN retriever,\n",
      "Memorizing Transformers then build a context\n",
      "window covering the entire sequence history of\n",
      "length N×Sat an increased cost of storage. Our\n",
      "experiments show that Infini-Transformer LM\n",
      "can achieve more than 100x compression rate on\n",
      "top of Memorizing Transformers while further\n",
      "improving the perplexity score.\n",
      "RMT and AutoCompressors allow for a poten-\n",
      "tially infinite context length since they compress\n",
      "the input into summary vectors and then pass\n",
      "them as extra soft-prompt inputs for the subsequent segments. However, in practice the\n",
      "success of those techniques highly depends on the size of soft-prompt vectors. Namely, it\n",
      "is necessary to increase the number of soft-prompt (summary) vectors to achieve a better\n",
      "performance with AutoCompressors (Chevalier et al., 2023) and with that, the memory and\n",
      "compute complexity grow quickly resulting in diminished efficiency. It was also observed in\n",
      "AutoCompressors (Chevalier et al., 2023) that an efficient compression objective is needed\n",
      "for training such prompt compression techniques (Ge et al., 2023).\n",
      "5Preprint. Under review.\n",
      "Model Memory size (comp.) XL cache Segment length PG19 Arxiv-math\n",
      "Transformer-XL 50M (3.7x) 2048 2048 11.88 2.42\n",
      "Memorizing Transformers 183M (1x) 2048 2048 11.37 2.26\n",
      "RMT 2.5M (73x) None 2048 13.27 2.55\n",
      "Infini-Transformer (Linear) 1.6M (114x) None 2048 9.65 2.24\n",
      "Infini-Transformer (Linear + Delta) 1.6M (114x) None 2048 9.67 2.23\n",
      "Table 2: Long-context language modeling results are compared in terms of average token-\n",
      "level perplexity. Comp. denotes compression ratio. Infini-Transformer outperforms memo-\n",
      "rizing transformers with memory length of 65K and achieves 114x compression ratio.\n",
      "3 Experiments\n",
      "We evaluated our Infini-Transformer models on benchmarks involving extremely long input\n",
      "sequences: long-context language modeling, 1M length passkey context block retrieval\n",
      "and 500K length book summarization tasks. For the language modeling benchmark, we\n",
      "train our models from scratch while for the passkey and book summarization tasks, we\n",
      "continually pre-train existing LLMs in order to highlight a plug-and-play long-context\n",
      "adaptation capability of our approach.\n",
      "3.1 Long-context Language Modeling\n",
      "We trained and evaluated small Infini-Transformer models on PG19 (Rae et al., 2019) and\n",
      "Arxiv-math (Wu et al., 2022) benchmarks. Our setup closely resembles that of Memorizing\n",
      "Transformers (Wu et al., 2022). Namely, all our models have 12 layers and 8 attention heads\n",
      "of dimension 128 each and FFNs with hidden layer 4096.\n",
      "We set the Infini-attention segment length Nto 2048 for all attention layers and the input\n",
      "sequence length to 32768 for training. This allows the Infini-attention to unroll over 16 steps\n",
      "w.r.t its compressive memory states. For the RMT baseline, we performed several runs with\n",
      "summary prompt lengths 50, 100 and 150 and sequence lengths 4096, 8196 and 32768. RMT\n",
      "with 100 summary vectors gave the best result when trained on 8196 length sequences.\n",
      "The main results from the language modeling experiments are summarized in Table 2. Our\n",
      "Infini-Transformer outperforms both Transformer-XL (Dai et al., 2019) and Memorizing\n",
      "Transformers (Wu et al., 2022) baselines while maintaining 114x less memory parameters\n",
      "than the Memorizing Transformer model with a vector retrieval-based KV memory with\n",
      "length of 65K at its 9thlayer.\n",
      "100K length training. We further increased the training sequence length to 100K from\n",
      "32K and trained the models on Arxiv-math dataset. 100K training further decreased the\n",
      "perplexity score to 2.21 and 2.20 forLinear and Linear +Delta models.\n",
      "Gating score visualization. Figure 3 visualizes the gating score, sigmoid (β)for the compres-\n",
      "sive memory for all attention heads in each layer. There are two types of heads emerged in\n",
      "Infini-attention after training: specialized heads with a gating score near 0 or 1 and mixer\n",
      "heads with a score close to 0.5. The specialized heads either process contextual information\n",
      "via the local attention computation or retrieve from the compressive memory whereas the\n",
      "Zero-shot\n",
      "32K 128K 256K 512K 1M\n",
      "Infini-Transformer (Linear) 14/13/98 11/14/100 6/3/100 6/7/99 8/6/98\n",
      "Infini-Transformer (Linear + Delta) 13/11/99 6/9/99 7/5/99 6/8/97 7/6/97\n",
      "FT (400 steps)\n",
      "Infini-Transformer (Linear) 100/100/100 100/100/100 100/100/100 97/99/100 96/94/100\n",
      "Infini-Transformer (Linear + Delta) 100/100/100 100/100/99 100/100/99 100/100/100 100/100/100\n",
      "Table 3: Infini-Transformers solved the passkey task with up to 1M context length when\n",
      "fine-tuned on 5K length inputs. We report token-level retrieval accuracy for passkeys hidden\n",
      "in a different part ( start/middle/end ) of long inputs with lengths 32K to 1M.\n",
      "6Preprint. Under review.\n",
      "Model Rouge-1 Rouge-2 Rouge-L Overall\n",
      "BART 36.4 7.6 15.3 16.2\n",
      "BART + Unlimiformer 36.8 8.3 15.7 16.9\n",
      "PRIMERA 38.6 7.2 15.6 16.3\n",
      "PRIMERA + Unlimiformer 37.9 8.2 16.3 17.2\n",
      "Infini-Transformers (Linear) 37.9 8.7 17.6 18.0\n",
      "Infini-Transformers (Linear + Delta) 40.0 8.8 17.9 18.5\n",
      "Table 4: 500K length book summarization (BookSum) results. The BART, PRIMERA and\n",
      "Unlimiformer results are from Bertsch et al. (2024).\n",
      "mixer heads aggregate both current contextual information and long-term memory content\n",
      "together into a single output. Interestingly, each layer has at least a single short-range\n",
      "head, allowing a forward-propagation of input signal up until the output layer. We also\n",
      "observed an interleaving of long and short-term content retrievals throughout the forward\n",
      "computation.\n",
      "3.2 LLM Continual Pre-training\n",
      "We performed a lightweight continual pre-training for long-context adaptation of existing\n",
      "LLMs. The pre-training data includes the PG19 and Arxiv-math corpus as well as C4\n",
      "text (Raffel et al., 2020) with length more than 4K tokens. The segment length Nwas set to\n",
      "2K throughout our experiments.\n",
      "1M passkey retrieval benchmark. We replaced the vanilla MHA in a 1B LLM with Infini-\n",
      "attention and continued to pre-train on inputs with length of 4K. The model was trained for\n",
      "30K steps with batch size of 64 before fine-tuning on the passkey retrieval task (Mohtashami\n",
      "& Jaggi, 2024).\n",
      "The passkey task hides a random number into a long text and asks it back at the model\n",
      "output. The length of the distraction text is varied by repeating a text chunk multiple times.\n",
      "The previous work (Chen et al., 2023a) showed that a 8B LLaMA model can solve the task up\n",
      "to 32K length when fine-tuned with the same 32K length inputs with Position Interpolation.\n",
      "We take this challenge further and fine-tune on only 5K length inputs to test on 1M length\n",
      "regime.\n",
      "Input lengthRouge overall score\n",
      "17181920\n",
      "16K 32K 64K 128K 256K 500K\n",
      "Figure 4: Infini-Transformers obtain better\n",
      "Rouge overall scores with more book text pro-\n",
      "vided as input.Table 3 reports the token-level accuracy for\n",
      "test subsets with input lengths ranging from\n",
      "32K to 1M. For each test subset, we con-\n",
      "trolled the position of the passkey so that it\n",
      "is either located around the beginning, mid-\n",
      "dle or the end of the input sequence. We\n",
      "reported both zero-shot accuracy and fine-\n",
      "tuning accuracy. Infini-Transformers solved\n",
      "the task with up to 1M context length af-\n",
      "ter fine-tuning on 5K length inputs for 400\n",
      "steps.\n",
      "500K length book summarization (Book-\n",
      "Sum). We further scaled our approach by\n",
      "continuously pre-training a 8B LLM model\n",
      "with 8K input length for 30K steps. We then\n",
      "fine-tuned on a book summarization task,\n",
      "BookSum (Kry ´sci´nski et al., 2021) where the\n",
      "goal is to generate a summary of an entire\n",
      "book text.\n",
      "We set the input length to 32K for fine-tuning and increase to 500K for evaluating. We use a\n",
      "generation temperature of 0.5 and top p=0.95 and set the number of decoding steps to 1024\n",
      "to generate a summary of each book.\n",
      "7Preprint. Under review.\n",
      "Table 4 compares our model against the encoder-decoder models that were built particularly\n",
      "for the summarization task (Lewis et al., 2019; Xiao et al., 2021) and their retrieval-based\n",
      "long-context extension (Bertsch et al., 2024). Our model outperforms the previous best\n",
      "results and achieves a new SOTA on BookSum by processing the entire text from book. We\n",
      "have also plotted the overall Rouge score on validation split of BookSum data in Figure 4.\n",
      "There is a clear trend showing that with more text provided as input from books, Our\n",
      "Infini-Transformers improves its summarization performance metric.\n",
      "4 Related Work\n",
      "Compressive memory. Inspired by the plasticity in biological neurons (Munkhdalai & Yu,\n",
      "2017a; Miconi et al., 2018), compressive memory approaches cast parameterized functions\n",
      "as memory to store and retrieve information (Hinton & Plaut, 1987; Schmidhuber, 1992; Ba\n",
      "et al., 2016; Munkhdalai et al., 2019). Unlike the Transformer KV memory array (Vaswani\n",
      "et al., 2017; Wu et al., 2022), which grows with input sequence length, compressive memory\n",
      "systems maintain a constant number of memory parameters for computational efficiency.\n",
      "The parameters are modified with an update rule to store information, which is then\n",
      "retrieved via a memory reading mechanism (Graves et al., 2014; Sukhbaatar et al., 2015;\n",
      "Munkhdalai & Yu, 2017b).\n",
      "Compressed input representations can be viewed as a summary of past sequence seg-\n",
      "ments (Rae et al., 2019; Chevalier et al., 2023). Along this direction, more recent works\n",
      "have been utilizing a Transformer LLM itself to compress input sequence for efficient long-\n",
      "context modeling (Bulatov et al., 2022; Chevalier et al., 2023; Ge et al., 2023; Mu et al.,\n",
      "2024). However, the previous segment-level compression methods, including Compressive\n",
      "Transformers (Rae et al., 2019) still discard the memory entries of old segments in order to\n",
      "free up space for the new ones, limiting their context window to the most recent segments.\n",
      "This is in contrast to our Infini-attention that computes incremental memory updates to a\n",
      "fixed amount of memory parameters in a recurrent fashion.\n",
      "Long-context continual pre-training. There is a line of work that extends the do-product\n",
      "attention layers and continues to train LLMs for long-context (Xiong et al., 2023; Fu et al.,\n",
      "2024). The attention extensions include incorporating sparsity into the attention layer (Chen\n",
      "et al., 2023b; Ratner et al., 2022; Mohtashami & Jaggi, 2024) as well as manipulating the\n",
      "position encodings (Chen et al., 2023a; Peng et al., 2023) Although the position encoding-\n",
      "based methods such as position interpolation techniques (Chen et al., 2023a) can be data\n",
      "efficient as they only adjust the positional bias in the attention layer, they are still costly for\n",
      "inference.\n",
      "The attention mechanism is also prone to the issues of attention sink (Xiao et al., 2023) and\n",
      "lost-in-the-middle (Liu et al., 2024). Consequently, they struggle in a regime where context\n",
      "length is longer than what was observed during training (Press et al., 2021; Kazemnejad\n",
      "et al., 2024). The proposed Infini-attention addresses those issues by enabling a segment-\n",
      "level streaming computation over long sequences with a fixed local attention window. Our\n",
      "Infini-Transformers successfully extrapolate to 1M input length regimes when trained on\n",
      "32K and even 5K length sequences.\n",
      "Efficient attention. The efficient attention techniques attempt to improve the efficiency of\n",
      "the dot-product attention with an approximation or a system-level optimization. Multiple\n",
      "directions have been explored for different forms of efficient attention approximation,\n",
      "including sparsity-based (Child et al., 2019; Beltagy et al., 2020; Sukhbaatar et al., 2021;\n",
      "Ding et al., 2023) and linear attention approximation (Shen et al., 2018; Katharopoulos et al.,\n",
      "2020; Schlag et al., 2021). Among those, the linear attention variants are closely related\n",
      "to the associative memory matrix (Schlag et al., 2020; 2021) and the metalearned neural\n",
      "memory (Munkhdalai et al., 2019), where KV bindings (Smolensky, 1990) are stored in\n",
      "Fast-Weights (Hinton & Plaut, 1987; Schmidhuber, 1992; Ba et al., 2016) that are modified\n",
      "in with respect to new contextual information. More recently, system-level optimization\n",
      "techniques have been proposed by leveraging specific hardware architecture to make the\n",
      "exact attention computation more efficient (Dao et al., 2022; Liu et al., 2023).\n",
      "8Preprint. Under review.\n",
      "5 Conclusion\n",
      "An effective memory system is crucial not just for comprehending long contexts with LLMs,\n",
      "but also for reasoning, planning, continual adaptation for fresh knowledge, and even for\n",
      "learning how to learn. This work introduces a close integration of compressive memory mod-\n",
      "ule into the vanilla dot-product attention layer. This subtle but critical modification to the\n",
      "attention layer enables LLMs to process infinitely long contexts with bounded memory and\n",
      "computation resources. We show that our approach can naturally scale to a million length\n",
      "regime of input sequences, while outperforming the baselines on long-context language\n",
      "modeling benchmark and book summarization tasks. We also demonstrate a promising\n",
      "length generalization capability of our approach. 1B model that was fine-tuned on up to 5K\n",
      "sequence length passkey instances solved the 1M length problem.\n",
      "References\n",
      "Rohan Anil, Andrew M Dai, Orhan Firat, Melvin Johnson, Dmitry Lepikhin, Alexandre\n",
      "Passos, Siamak Shakeri, Emanuel Taropa, Paige Bailey, Zhifeng Chen, et al. Palm 2\n",
      "technical report. arXiv preprint arXiv:2305.10403 , 2023.\n",
      "Jimmy Ba, Geoffrey E Hinton, Volodymyr Mnih, Joel Z Leibo, and Catalin Ionescu. Using\n",
      "fast weights to attend to the recent past. Advances in neural information processing systems ,\n",
      "29, 2016.\n",
      "Dzmitry Bahdanau, Kyunghyun Cho, and Yoshua Bengio. Neural machine translation by\n",
      "jointly learning to align and translate. arXiv preprint arXiv:1409.0473 , 2014.\n",
      "Iz Beltagy, Matthew E Peters, and Arman Cohan. Longformer: The long-document trans-\n",
      "former. arXiv preprint arXiv:2004.05150 , 2020.\n",
      "Amanda Bertsch, Uri Alon, Graham Neubig, and Matthew Gormley. Unlimiformer: Long-\n",
      "range transformers with unlimited length input. Advances in Neural Information Processing\n",
      "Systems , 36, 2024.\n",
      "Tom Brown, Benjamin Mann, Nick Ryder, Melanie Subbiah, Jared D Kaplan, Prafulla\n",
      "Dhariwal, Arvind Neelakantan, Pranav Shyam, Girish Sastry, Amanda Askell, et al.\n",
      "Language models are few-shot learners. Advances in neural information processing systems ,\n",
      "33:1877–1901, 2020.\n",
      "Aydar Bulatov, Yury Kuratov, and Mikhail Burtsev. Recurrent memory transformer. Advances\n",
      "in Neural Information Processing Systems , 35:11079–11091, 2022.\n",
      "Shouyuan Chen, Sherman Wong, Liangjian Chen, and Yuandong Tian. Extending con-\n",
      "text window of large language models via positional interpolation. arXiv preprint\n",
      "arXiv:2306.15595 , 2023a.\n",
      "Yukang Chen, Shengju Qian, Haotian Tang, Xin Lai, Zhijian Liu, Song Han, and Jiaya Jia.\n",
      "Longlora: Efficient fine-tuning of long-context large language models. arXiv preprint\n",
      "arXiv:2309.12307 , 2023b.\n",
      "Jianpeng Cheng, Li Dong, and Mirella Lapata. Long short-term memory-networks for\n",
      "machine reading. arXiv preprint arXiv:1601.06733 , 2016.\n",
      "Alexis Chevalier, Alexander Wettig, Anirudh Ajith, and Danqi Chen. Adapting language\n",
      "models to compress contexts. arXiv preprint arXiv:2305.14788 , 2023.\n",
      "Rewon Child, Scott Gray, Alec Radford, and Ilya Sutskever. Generating long sequences with\n",
      "sparse transformers. arXiv preprint arXiv:1904.10509 , 2019.\n",
      "Djork-Arn ´e Clevert, Thomas Unterthiner, and Sepp Hochreiter. Fast and accurate deep\n",
      "network learning by exponential linear units (elus). arXiv preprint arXiv:1511.07289 , 2015.\n",
      "9Preprint. Under review.\n",
      "Zihang Dai, Zhilin Yang, Yiming Yang, Jaime Carbonell, Quoc V Le, and Ruslan Salakhut-\n",
      "dinov. Transformer-xl: Attentive language models beyond a fixed-length context. arXiv\n",
      "preprint arXiv:1901.02860 , 2019.\n",
      "Tri Dao, Dan Fu, Stefano Ermon, Atri Rudra, and Christopher R ´e. Flashattention: Fast\n",
      "and memory-efficient exact attention with io-awareness. Advances in Neural Information\n",
      "Processing Systems , 35:16344–16359, 2022.\n",
      "Jiayu Ding, Shuming Ma, Li Dong, Xingxing Zhang, Shaohan Huang, Wenhui Wang,\n",
      "Nanning Zheng, and Furu Wei. Longnet: Scaling transformers to 1,000,000,000 tokens.\n",
      "arXiv preprint arXiv:2307.02486 , 2023.\n",
      "Yao Fu, Rameswar Panda, Xinyao Niu, Xiang Yue, Hannaneh Hajishirzi, Yoon Kim, and\n",
      "Hao Peng. Data engineering for scaling language models to 128k context. arXiv preprint\n",
      "arXiv:2402.10171 , 2024.\n",
      "Tao Ge, Jing Hu, Xun Wang, Si-Qing Chen, and Furu Wei. In-context autoencoder for context\n",
      "compression in a large language model. arXiv preprint arXiv:2307.06945 , 2023.\n",
      "Alex Graves, Greg Wayne, and Ivo Danihelka. Neural turing machines. arXiv preprint\n",
      "arXiv:1410.5401 , 2014.\n",
      "Dirk Groeneveld, Iz Beltagy, Pete Walsh, Akshita Bhagia, Rodney Kinney, Oyvind Tafjord,\n",
      "Ananya Harsh Jha, Hamish Ivison, Ian Magnusson, Yizhong Wang, et al. Olmo: Acceler-\n",
      "ating the science of language models. arXiv preprint arXiv:2402.00838 , 2024.\n",
      "Donald Olding Hebb. The organization of behavior: A neuropsychological theory . Psychology\n",
      "press, 2005.\n",
      "Geoffrey E Hinton and David C Plaut. Using fast weights to deblur old memories. In\n",
      "Proceedings of the ninth annual conference of the Cognitive Science Society , pp. 177–186, 1987.\n",
      "John J Hopfield. Neural networks and physical systems with emergent collective computa-\n",
      "tional abilities. Proceedings of the national academy of sciences , 79(8):2554–2558, 1982.\n",
      "Pentti Kanerva. Sparse distributed memory . MIT press, 1988.\n",
      "Angelos Katharopoulos, Apoorv Vyas, Nikolaos Pappas, and Fran c ¸ois Fleuret. Transformers\n",
      "are rnns: Fast autoregressive transformers with linear attention. In International conference\n",
      "on machine learning , pp. 5156–5165. PMLR, 2020.\n",
      "Amirhossein Kazemnejad, Inkit Padhi, Karthikeyan Natesan Ramamurthy, Payel Das, and\n",
      "Siva Reddy. The impact of positional encoding on length generalization in transformers.\n",
      "Advances in Neural Information Processing Systems , 36, 2024.\n",
      "Wojciech Kry ´sci´nski, Nazneen Rajani, Divyansh Agarwal, Caiming Xiong, and Dragomir\n",
      "Radev. Booksum: A collection of datasets for long-form narrative summarization. arXiv\n",
      "preprint arXiv:2105.08209 , 2021.\n",
      "Mike Lewis, Yinhan Liu, Naman Goyal, Marjan Ghazvininejad, Abdelrahman Mohamed,\n",
      "Omer Levy, Ves Stoyanov, and Luke Zettlemoyer. Bart: Denoising sequence-to-sequence\n",
      "pre-training for natural language generation, translation, and comprehension. arXiv\n",
      "preprint arXiv:1910.13461 , 2019.\n",
      "Hao Liu, Matei Zaharia, and Pieter Abbeel. Ring attention with blockwise transformers for\n",
      "near-infinite context. arXiv preprint arXiv:2310.01889 , 2023.\n",
      "Nelson F Liu, Kevin Lin, John Hewitt, Ashwin Paranjape, Michele Bevilacqua, Fabio Petroni,\n",
      "and Percy Liang. Lost in the middle: How language models use long contexts. Transactions\n",
      "of the Association for Computational Linguistics , 12:157–173, 2024.\n",
      "Thomas Miconi, Kenneth Stanley, and Jeff Clune. Differentiable plasticity: training plastic\n",
      "neural networks with backpropagation. In International Conference on Machine Learning ,\n",
      "pp. 3559–3568. PMLR, 2018.\n",
      "10Preprint. Under review.\n",
      "Amirkeivan Mohtashami and Martin Jaggi. Random-access infinite context length for\n",
      "transformers. Advances in Neural Information Processing Systems , 36, 2024.\n",
      "Jesse Mu, Xiang Li, and Noah Goodman. Learning to compress prompts with gist tokens.\n",
      "Advances in Neural Information Processing Systems , 36, 2024.\n",
      "Tsendsuren Munkhdalai and Hong Yu. Meta networks. In International conference on machine\n",
      "learning , pp. 2554–2563. PMLR, 2017a.\n",
      "Tsendsuren Munkhdalai and Hong Yu. Neural semantic encoders. In Proceedings of the\n",
      "conference. Association for Computational Linguistics. Meeting , volume 1, pp. 397. NIH Public\n",
      "Access, 2017b.\n",
      "Tsendsuren Munkhdalai, John P Lalor, and Hong Yu. Citation analysis with neural attention\n",
      "models. In Proceedings of the Seventh International Workshop on Health Text Mining and\n",
      "Information Analysis , pp. 69–77, 2016.\n",
      "Tsendsuren Munkhdalai, Alessandro Sordoni, Tong Wang, and Adam Trischler. Metalearned\n",
      "neural memory. Advances in Neural Information Processing Systems , 32, 2019.\n",
      "Bowen Peng, Jeffrey Quesnelle, Honglu Fan, and Enrico Shippole. Yarn: Efficient context\n",
      "window extension of large language models. arXiv preprint arXiv:2309.00071 , 2023.\n",
      "Reiner Pope, Sholto Douglas, Aakanksha Chowdhery, Jacob Devlin, James Bradbury,\n",
      "Jonathan Heek, Kefan Xiao, Shivani Agrawal, and Jeff Dean. Efficiently scaling trans-\n",
      "former inference. Proceedings of Machine Learning and Systems , 5, 2023.\n",
      "Ofir Press, Noah A Smith, and Mike Lewis. Train short, test long: Attention with linear\n",
      "biases enables input length extrapolation. arXiv preprint arXiv:2108.12409 , 2021.\n",
      "Jack W Rae, Anna Potapenko, Siddhant M Jayakumar, and Timothy P Lillicrap. Compressive\n",
      "transformers for long-range sequence modelling. arXiv preprint arXiv:1911.05507 , 2019.\n",
      "Colin Raffel, Noam Shazeer, Adam Roberts, Katherine Lee, Sharan Narang, Michael Matena,\n",
      "Yanqi Zhou, Wei Li, and Peter J Liu. Exploring the limits of transfer learning with a\n",
      "unified text-to-text transformer. The Journal of Machine Learning Research , 21(1):5485–5551,\n",
      "2020.\n",
      "Nir Ratner, Yoav Levine, Yonatan Belinkov, Ori Ram, Omri Abend, Ehud Karpas, Amnon\n",
      "Shashua, Kevin Leyton-Brown, and Yoav Shoham. Parallel context windows improve\n",
      "in-context learning of large language models. arXiv preprint arXiv:2212.10947 , 2022.\n",
      "Imanol Schlag, Paul Smolensky, Roland Fernandez, Nebojsa Jojic, J ¨urgen Schmidhuber,\n",
      "and Jianfeng Gao. Enhancing the transformer with explicit relational encoding for math\n",
      "problem solving. arXiv preprint arXiv:1910.06611 , 2019.\n",
      "Imanol Schlag, Tsendsuren Munkhdalai, and J ¨urgen Schmidhuber. Learning associative\n",
      "inference using fast weight memory. arXiv preprint arXiv:2011.07831 , 2020.\n",
      "Imanol Schlag, Kazuki Irie, and J ¨urgen Schmidhuber. Linear transformers are secretly\n",
      "fast weight programmers. In International Conference on Machine Learning , pp. 9355–9366.\n",
      "PMLR, 2021.\n",
      "J¨urgen Schmidhuber. Learning to control fast-weight memories: An alternative to dynamic\n",
      "recurrent networks. Neural Computation , 4(1):131–139, 1992.\n",
      "Noam Shazeer and Mitchell Stern. Adafactor: Adaptive learning rates with sublinear\n",
      "memory cost. In International Conference on Machine Learning , pp. 4596–4604. PMLR, 2018.\n",
      "Zhuoran Shen, Mingyuan Zhang, Haiyu Zhao, Shuai Yi, and Hongsheng Li. Efficient\n",
      "attention: Attention with linear complexities. arXiv preprint arXiv:1812.01243 , 2018.\n",
      "Paul Smolensky. Tensor product variable binding and the representation of symbolic\n",
      "structures in connectionist systems. Artificial intelligence , 46(1-2):159–216, 1990.\n",
      "11Preprint. Under review.\n",
      "Sainbayar Sukhbaatar, Jason Weston, Rob Fergus, et al. End-to-end memory networks.\n",
      "Advances in neural information processing systems , 28, 2015.\n",
      "Sainbayar Sukhbaatar, Da Ju, Spencer Poff, Stephen Roller, Arthur Szlam, Jason Weston,\n",
      "and Angela Fan. Not all memories are created equal: Learning to forget by expiring. In\n",
      "International Conference on Machine Learning , pp. 9902–9912. PMLR, 2021.\n",
      "Hugo Touvron, Louis Martin, Kevin Stone, Peter Albert, Amjad Almahairi, Yasmine Babaei,\n",
      "Nikolay Bashlykov, Soumya Batra, Prajjwal Bhargava, Shruti Bhosale, et al. Llama 2:\n",
      "Open foundation and fine-tuned chat models. arXiv preprint arXiv:2307.09288 , 2023.\n",
      "Ashish Vaswani, Noam Shazeer, Niki Parmar, Jakob Uszkoreit, Llion Jones, Aidan N Gomez,\n",
      "Łukasz Kaiser, and Illia Polosukhin. Attention is all you need. Advances in neural informa-\n",
      "tion processing systems , 30, 2017.\n",
      "Yuhuai Wu, Markus N Rabe, DeLesley Hutchins, and Christian Szegedy. Memorizing\n",
      "transformers. arXiv preprint arXiv:2203.08913 , 2022.\n",
      "Guangxuan Xiao, Yuandong Tian, Beidi Chen, Song Han, and Mike Lewis. Efficient stream-\n",
      "ing language models with attention sinks. arXiv preprint arXiv:2309.17453 , 2023.\n",
      "Wen Xiao, Iz Beltagy, Giuseppe Carenini, and Arman Cohan. Primera: Pyramid-\n",
      "based masked sentence pre-training for multi-document summarization. arXiv preprint\n",
      "arXiv:2110.08499 , 2021.\n",
      "Wenhan Xiong, Jingyu Liu, Igor Molybog, Hejia Zhang, Prajjwal Bhargava, Rui Hou, Louis\n",
      "Martin, Rashi Rungta, Karthik Abinav Sankararaman, Barlas Oguz, et al. Effective\n",
      "long-context scaling of foundation models. arXiv preprint arXiv:2309.16039 , 2023.\n",
      "A Additional Training Details\n",
      "For the long-context language modeling task, we set the learning rate to 0.01 by perform-\n",
      "ing small search over values of 0.003, 0.005, 0.01 and 0.03. We used the Adafactor opti-\n",
      "mizer (Shazeer & Stern, 2018) with linear warmup with 1000 steps, followed by cosine\n",
      "decay. We applied gradient checkpointing after each segment to save to save memory. The\n",
      "batch size was set to 64. For the LLM experiments, we set the learning rate to 0.0001 during\n",
      "continual pre-training and task fine-tuning.\n",
      "B Passkey Retrieval Task\n",
      "Below we showed the input format of the passkey task.\n",
      "There is an important info hidden inside a lot of irrelevant text. Find it and memorize them. I\n",
      "will quiz you about the important information there. The grass is green. The sky is blue. The sun\n",
      "is yellow. Here we go. There and back again. (repeat x times) The pass key is 9054 . Remember\n",
      "it.9054 is the pass key. The grass is green. The sky is blue. The sun is yellow. Here we go.\n",
      "There and ack again. (repeat y times) What is the pass key? The pass key is\n",
      "12\n"
     ]
    }
   ],
   "source": [
    "def extract_text_from_pdf(pdf_path):\n",
    "    text = \"\"\n",
    "    with open(pdf_path, \"rb\") as file:\n",
    "        # Create a PDF reader object\n",
    "        pdf_reader = PyPDF2.PdfReader(file)\n",
    "        \n",
    "        # Iterate over each page in the PDF\n",
    "        for page_num in range(len(pdf_reader.pages)):\n",
    "            # Extract text from the current page\n",
    "            page = pdf_reader.pages[page_num]\n",
    "            text += page.extract_text()\n",
    "    \n",
    "    return text\n",
    "\n",
    "# Example usage\n",
    "pdf_path = r\"data\\infinite_attention.pdf\"\n",
    "pdf_text = extract_text_from_pdf(pdf_path)\n",
    "print(pdf_text)"
   ]
  },
  {
   "cell_type": "code",
   "execution_count": 4,
   "id": "f307fc8b-d438-471c-b9af-31123cca4d91",
   "metadata": {
    "tags": []
   },
   "outputs": [
    {
     "name": "stdout",
     "output_type": "stream",
     "text": [
      "<class 'str'>\n"
     ]
    }
   ],
   "source": [
    "print(type(pdf_text))"
   ]
  },
  {
   "cell_type": "code",
   "execution_count": 7,
   "id": "1cf3a6eb-af01-4586-9d4a-ab1f2d0f037a",
   "metadata": {
    "tags": []
   },
   "outputs": [
    {
     "ename": "ModuleNotFoundError",
     "evalue": "No module named 'langchain.text_document'",
     "output_type": "error",
     "traceback": [
      "\u001b[1;31m---------------------------------------------------------------------------\u001b[0m",
      "\u001b[1;31mModuleNotFoundError\u001b[0m                       Traceback (most recent call last)",
      "Cell \u001b[1;32mIn[7], line 1\u001b[0m\n\u001b[1;32m----> 1\u001b[0m \u001b[38;5;28;01mfrom\u001b[39;00m \u001b[38;5;21;01mlangchain\u001b[39;00m\u001b[38;5;21;01m.\u001b[39;00m\u001b[38;5;21;01mtext_document\u001b[39;00m \u001b[38;5;28;01mimport\u001b[39;00m TextDocument\n",
      "\u001b[1;31mModuleNotFoundError\u001b[0m: No module named 'langchain.text_document'"
     ]
    }
   ],
   "source": [
    "from langchain.text_document import TextDocument"
   ]
  },
  {
   "cell_type": "code",
   "execution_count": 17,
   "id": "3691e8af-2c13-45f1-b6b0-6c4efe04bf90",
   "metadata": {
    "tags": []
   },
   "outputs": [
    {
     "name": "stderr",
     "output_type": "stream",
     "text": [
      "Created a chunk of size 568, which is longer than the specified 500\n",
      "Created a chunk of size 506, which is longer than the specified 500\n",
      "Created a chunk of size 633, which is longer than the specified 500\n"
     ]
    },
    {
     "name": "stdout",
     "output_type": "stream",
     "text": [
      "110\n",
      "<class 'langchain_core.documents.base.Document'>\n"
     ]
    }
   ],
   "source": [
    "from langchain_text_splitters import NLTKTextSplitter\n",
    "\n",
    "text_splitter = NLTKTextSplitter(chunk_size=500, chunk_overlap=100)\n",
    "\n",
    "chunks = text_splitter.split_documents(pages)\n",
    "\n",
    "print(len(chunks))\n",
    "\n",
    "print(type(chunks[0]))"
   ]
  },
  {
   "cell_type": "code",
   "execution_count": 7,
   "id": "b8d5828d-759c-45c2-9cda-682d79e5c55a",
   "metadata": {
    "tags": []
   },
   "outputs": [
    {
     "name": "stdout",
     "output_type": "stream",
     "text": [
      "page_content='Preprint.\\n\\nUnder review.\\n\\nLeave No Context Behind:\\nEfficient Infinite Context Transformers with Infini-attention\\nTsendsuren Munkhdalai, Manaal Faruqui and Siddharth Gopal\\nGoogle\\ntsendsuren@google.com\\nAbstract\\nThis work introduces an efficient method to scale Transformer-based Large\\nLanguage Models (LLMs) to infinitely long inputs with bounded memory\\nand computation.\\n\\nA key component in our proposed approach is a new at-\\ntention technique dubbed Infini-attention.' metadata={'source': 'C:\\\\Users\\\\alenp\\\\Downloads\\\\infinite_attention.pdf', 'page': 0}\n"
     ]
    }
   ],
   "source": [
    "print(chunks[0])"
   ]
  },
  {
   "cell_type": "code",
   "execution_count": null,
   "id": "f38ee443-8852-442b-ac62-7c09afd3a7e8",
   "metadata": {},
   "outputs": [],
   "source": []
  },
  {
   "cell_type": "code",
   "execution_count": 12,
   "id": "166f797f-7ece-4172-aa47-e5486d7f5c83",
   "metadata": {
    "tags": []
   },
   "outputs": [
    {
     "name": "stdout",
     "output_type": "stream",
     "text": [
      "Note: you may need to restart the kernel to use updated packages.\n"
     ]
    }
   ],
   "source": [
    "pip install langchain-google-genai -q"
   ]
  },
  {
   "cell_type": "code",
   "execution_count": 18,
   "id": "d7a18b72-1cfa-47d8-96c9-4f932d7e1231",
   "metadata": {
    "tags": []
   },
   "outputs": [],
   "source": [
    "from langchain_google_genai import GoogleGenerativeAIEmbeddings\n",
    "\n",
    "embedding_model = GoogleGenerativeAIEmbeddings(google_api_key=\"*****************\", \n",
    "                                               model=\"models/embedding-001\")"
   ]
  },
  {
   "cell_type": "code",
   "execution_count": 40,
   "id": "a4e90bb6-e66f-4fa2-81b8-49e742f1b558",
   "metadata": {
    "tags": []
   },
   "outputs": [],
   "source": [
    "# Store the chunks in vector store\n",
    "from langchain_community.vectorstores import Chroma\n",
    "\n",
    "# Embed each chunk and load it into the vector store\n",
    "db = Chroma.from_documents(chunks, embedding_model, persist_directory=\"./chroma_db_\")\n",
    "\n",
    "# Persist the database on drive\n",
    "db.persist()"
   ]
  },
  {
   "cell_type": "code",
   "execution_count": 20,
   "id": "464d9f1f-fe0b-415a-b757-59f3bcf7f994",
   "metadata": {
    "tags": []
   },
   "outputs": [],
   "source": [
    "db_connection = Chroma(persist_directory=\"./chroma_db_\", embedding_function=embedding_model)"
   ]
  },
  {
   "cell_type": "code",
   "execution_count": 21,
   "id": "c3c427e2-7f17-4be7-8104-152f01f54e1b",
   "metadata": {
    "tags": []
   },
   "outputs": [
    {
     "name": "stdout",
     "output_type": "stream",
     "text": [
      "<class 'langchain_core.vectorstores.VectorStoreRetriever'>\n"
     ]
    }
   ],
   "source": [
    "# Converting CHROMA db_connection to Retriever Object\n",
    "retriever = db_connection.as_retriever(search_kwargs={\"k\": 5})\n",
    "\n",
    "print(type(retriever))"
   ]
  },
  {
   "cell_type": "code",
   "execution_count": 30,
   "id": "79aacb95-b167-40f0-9c39-b0f731db434b",
   "metadata": {
    "tags": []
   },
   "outputs": [],
   "source": [
    "from langchain_core.messages import HumanMessage, AIMessage, SystemMessage\n",
    "from langchain_core.prompts import ChatPromptTemplate, SystemMessagePromptTemplate, HumanMessagePromptTemplate"
   ]
  },
  {
   "cell_type": "code",
   "execution_count": 31,
   "id": "cbe16741-25da-4693-94ae-879d6944cbb0",
   "metadata": {
    "tags": []
   },
   "outputs": [],
   "source": [
    "chat_template = ChatPromptTemplate.from_messages([\n",
    "    # System Message Prompt Template\n",
    "    SystemMessage(content=\"\"\"You are a Helpful AI Bot. \n",
    "    You take the context and question from user. Your answer should be based on the specific context.\"\"\"),\n",
    "    # Human Message Prompt Template\n",
    "    HumanMessagePromptTemplate.from_template(\"\"\"Aswer the question based on the given context.\n",
    "    Context:\n",
    "    {context}\n",
    "    \n",
    "    Question: \n",
    "    {question}\n",
    "    \n",
    "    Answer: \"\"\")\n",
    "])\n"
   ]
  },
  {
   "cell_type": "code",
   "execution_count": 35,
   "id": "4c07b06a-67af-4b5a-8498-aa1e49c49cbe",
   "metadata": {
    "tags": []
   },
   "outputs": [],
   "source": [
    "from langchain_google_genai import ChatGoogleGenerativeAI\n",
    "\n",
    "chat_model = ChatGoogleGenerativeAI(google_api_key=\"*********************\", \n",
    "                                   model=\"gemini-1.5-pro-latest\")\n",
    "from langchain_core.output_parsers import StrOutputParser\n",
    "\n",
    "output_parser = StrOutputParser()"
   ]
  },
  {
   "cell_type": "code",
   "execution_count": 36,
   "id": "0f5d7f8d-fddb-4164-b8e3-a5fd2f193631",
   "metadata": {
    "tags": []
   },
   "outputs": [],
   "source": [
    "from langchain_core.runnables import RunnablePassthrough\n",
    "\n",
    "def format_docs(docs):\n",
    "    return \"\\n\\n\".join(doc.page_content for doc in docs)\n",
    "\n",
    "\n",
    "rag_chain = (\n",
    "    {\"context\": retriever | format_docs, \"question\": RunnablePassthrough()}\n",
    "    | chat_template\n",
    "    | chat_model\n",
    "    | output_parser\n",
    ")"
   ]
  },
  {
   "cell_type": "code",
   "execution_count": 38,
   "id": "f7996f4b-d5dc-4c6c-8245-dc32ac24c41f",
   "metadata": {
    "tags": []
   },
   "outputs": [
    {
     "data": {
      "text/plain": [
       "'## Infinite Attention Explained:\\n\\nBased on the context you provided, **Infini-attention** is a novel attention mechanism designed to handle both **long and short-range contextual dependencies** within sequences efficiently. It achieves this by incorporating two key elements into the standard attention mechanism:\\n\\n* **Compressive Memory:** This allows the model to store and retrieve information from past attention computations, enabling it to access and utilize long-term context effectively. Instead of discarding old key-value (KV) states like standard attention, Infini-attention stores them in the compressive memory. These stored states can then be retrieved using the current query states when processing new sequences, providing access to a much broader context.\\n* **Local Causal Attention:** This focuses on capturing dependencies within a local context window, similar to masked attention in standard transformers. This allows the model to efficiently learn relationships between nearby elements in the sequence.\\n\\n**Essentially, Infini-attention combines the strengths of both local and global context processing, making it well-suited for tasks involving long sequences and requiring an understanding of both recent and historical information.** \\n'"
      ]
     },
     "execution_count": 38,
     "metadata": {},
     "output_type": "execute_result"
    }
   ],
   "source": [
    "response = rag_chain.invoke(\"What is infinite attention?\")\n",
    "\n",
    "response"
   ]
  },
  {
   "cell_type": "code",
   "execution_count": 39,
   "id": "982dbaa1-8c87-4926-b5a0-db5d281f765c",
   "metadata": {
    "tags": []
   },
   "outputs": [
    {
     "data": {
      "text/markdown": [
       "## Infinite Attention Explained:\n",
       "\n",
       "Based on the context you provided, **Infini-attention** is a novel attention mechanism designed to handle both **long and short-range contextual dependencies** within sequences efficiently. It achieves this by incorporating two key elements into the standard attention mechanism:\n",
       "\n",
       "* **Compressive Memory:** This allows the model to store and retrieve information from past attention computations, enabling it to access and utilize long-term context effectively. Instead of discarding old key-value (KV) states like standard attention, Infini-attention stores them in the compressive memory. These stored states can then be retrieved using the current query states when processing new sequences, providing access to a much broader context.\n",
       "* **Local Causal Attention:** This focuses on capturing dependencies within a local context window, similar to masked attention in standard transformers. This allows the model to efficiently learn relationships between nearby elements in the sequence.\n",
       "\n",
       "**Essentially, Infini-attention combines the strengths of both local and global context processing, making it well-suited for tasks involving long sequences and requiring an understanding of both recent and historical information.** \n"
      ],
      "text/plain": [
       "<IPython.core.display.Markdown object>"
      ]
     },
     "execution_count": 39,
     "metadata": {},
     "output_type": "execute_result"
    }
   ],
   "source": [
    "from IPython.display import Markdown as md\n",
    "\n",
    "md(response)"
   ]
  },
  {
   "cell_type": "code",
   "execution_count": 41,
   "id": "e124da69-2724-487c-9bd4-4759d5a299db",
   "metadata": {
    "tags": []
   },
   "outputs": [
    {
     "ename": "AttributeError",
     "evalue": "type object 'Chroma' has no attribute 'load'",
     "output_type": "error",
     "traceback": [
      "\u001b[1;31m---------------------------------------------------------------------------\u001b[0m",
      "\u001b[1;31mAttributeError\u001b[0m                            Traceback (most recent call last)",
      "Cell \u001b[1;32mIn[41], line 1\u001b[0m\n\u001b[1;32m----> 1\u001b[0m db_connection \u001b[38;5;241m=\u001b[39m Chroma\u001b[38;5;241m.\u001b[39mload(\u001b[38;5;124m\"\u001b[39m\u001b[38;5;124m./chroma_db_\u001b[39m\u001b[38;5;124m\"\u001b[39m)\n",
      "\u001b[1;31mAttributeError\u001b[0m: type object 'Chroma' has no attribute 'load'"
     ]
    }
   ],
   "source": [
    "db_connection = Chroma.load(\"./chroma_db_\")"
   ]
  },
  {
   "cell_type": "code",
   "execution_count": 42,
   "id": "7bc5a7a5-6268-4da4-9792-357e3c70df46",
   "metadata": {
    "tags": []
   },
   "outputs": [
    {
     "ename": "TypeError",
     "evalue": "Chroma.persist() takes 1 positional argument but 2 were given",
     "output_type": "error",
     "traceback": [
      "\u001b[1;31m---------------------------------------------------------------------------\u001b[0m",
      "\u001b[1;31mTypeError\u001b[0m                                 Traceback (most recent call last)",
      "Cell \u001b[1;32mIn[42], line 1\u001b[0m\n\u001b[1;32m----> 1\u001b[0m db_connection\u001b[38;5;241m.\u001b[39mpersist(\u001b[38;5;124m\"\u001b[39m\u001b[38;5;124m./chroma_db_\u001b[39m\u001b[38;5;124m\"\u001b[39m)\n",
      "\u001b[1;31mTypeError\u001b[0m: Chroma.persist() takes 1 positional argument but 2 were given"
     ]
    }
   ],
   "source": [
    "db_connection.persist(\"./chroma_db_\")"
   ]
  },
  {
   "cell_type": "code",
   "execution_count": null,
   "id": "8a7e71e8-b0b3-478b-b9cb-d40a343e6e54",
   "metadata": {},
   "outputs": [],
   "source": []
  }
 ],
 "metadata": {
  "kernelspec": {
   "display_name": "Python 3 (ipykernel)",
   "language": "python",
   "name": "python3"
  },
  "language_info": {
   "codemirror_mode": {
    "name": "ipython",
    "version": 3
   },
   "file_extension": ".py",
   "mimetype": "text/x-python",
   "name": "python",
   "nbconvert_exporter": "python",
   "pygments_lexer": "ipython3",
   "version": "3.11.8"
  }
 },
 "nbformat": 4,
 "nbformat_minor": 5
}
